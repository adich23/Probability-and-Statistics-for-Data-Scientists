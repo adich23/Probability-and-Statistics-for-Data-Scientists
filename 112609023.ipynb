{
 "cells": [
  {
   "cell_type": "code",
   "execution_count": 114,
   "metadata": {
    "colab": {
     "base_uri": "https://localhost:8080/",
     "height": 55
    },
    "colab_type": "code",
    "id": "7SKaUWPGC_tX",
    "outputId": "b696ab30-74c0-4618-e95a-228bebb5e011"
   },
   "outputs": [
    {
     "name": "stdout",
     "output_type": "stream",
     "text": [
      "Drive already mounted at /content/drive; to attempt to forcibly remount, call drive.mount(\"/content/drive\", force_remount=True).\n"
     ]
    }
   ],
   "source": [
    "from google.colab import drive\n",
    "drive.mount('/content/drive')"
   ]
  },
  {
   "cell_type": "code",
   "execution_count": 0,
   "metadata": {
    "colab": {},
    "colab_type": "code",
    "id": "vH3kr0wEd2hw"
   },
   "outputs": [],
   "source": [
    "import pandas as pd\n",
    "import math\n",
    "from math import sqrt\n",
    "import numpy as np\n",
    "import matplotlib.pyplot as plt\n",
    "import matplotlib.ticker as ticker\n",
    "import seaborn as sns\n",
    "from scipy.stats import gamma\n",
    "from itertools import permutations\n",
    "import statistics\n",
    "import random\n",
    "pd.options.mode.chained_assignment = None"
   ]
  },
  {
   "cell_type": "markdown",
   "metadata": {
    "colab_type": "text",
    "id": "kxuhCm2sWB6x"
   },
   "source": [
    "## **Dataset Summary:**\n",
    "\n",
    "### **Covid Dataset:**\n",
    "1. **Time.csv(Primary File) -** Contains cumulative data for no. of deaths and cases in entire South Korea.\n",
    "2. **PatientInfo.csv** -  Contains data about the date of hospitalization, release date, deceased date, etc.\n",
    "3. **TimeAge.csv** - Contains time series data of COVID-19 status in terms of the age in South Korea\n",
    "4. **TimeProvince.csv** - Contains time series data of COVID-19 status in terms of the Province in South Korea\n",
    "\n",
    "### **X Dataset:**\n",
    "1. **SearchTrend.csv** - Contains search volume in the Korean Language of different respiratory diseases along with Coronavirus\n",
    "2. **Weather.csv** -  Contains the data of the weather in the regions of South Korea\n",
    "3. **SeoulFloating.csv** - Contains floating population data for various districts of Seoul and different age groups."
   ]
  },
  {
   "cell_type": "markdown",
   "metadata": {
    "colab_type": "text",
    "id": "hLAG2AehGQSA"
   },
   "source": [
    "## **1. Data Cleaning**\n"
   ]
  },
  {
   "cell_type": "markdown",
   "metadata": {
    "colab_type": "text",
    "id": "NeiM9aGnd-8B"
   },
   "source": [
    "**Outlier Removal:**\n",
    "\n",
    "We used Tukey's rule to remove outliers and observed the below results:\n",
    "* We first tried to remove outliers on the basis of \"Confirmed Cases\" values, but that resulted in removal of entire month of March and we had only 120 days of data with maximum cases in Feb-Mar range.\n",
    "* Next, we tried to remove outliers on the basis of \"Deceased Cases\" values where we found 1 outlier. These deceased cases were the highest among all the cases, Hence got removed.\n",
    "* Finally we removed the corresponding rows for the outlier in other tables as well to maintain consistency in data across tables.\n",
    "* We did not find any missing value in our main Covid dataset. We only found some missing values in Weather and PatientInfo dataset.\n",
    "\n",
    "**Issues Found:**\n",
    "\n",
    "* Some columns are very sparse, like 'infected_by' column in 'patient_info' table. Hence, it was better to remove the columns as they didn't contain any significant information for our inferences. Such missing values in columns could have lead to large loss of information during data filtering if we simply dropped all the null values.\n",
    "* We were getting lot of data removed due to alpha value set to 1.5 and filtering data based on cases lead to lot of major data removed. Hence, finally we set the alpha to 1.0 (suggested by prof. 1-5% ) and outlier parameter over daily deceased cases."
   ]
  },
  {
   "cell_type": "code",
   "execution_count": 116,
   "metadata": {
    "colab": {
     "base_uri": "https://localhost:8080/",
     "height": 237
    },
    "colab_type": "code",
    "id": "_tIhEZS_097U",
    "outputId": "f5c2003d-251b-403f-c260-bda4a3824c86"
   },
   "outputs": [
    {
     "name": "stdout",
     "output_type": "stream",
     "text": [
      "\n",
      "Data dimensions\n",
      "Weather: (25088, 9)\n",
      "Time: (102, 7)\n",
      "SearchTrend: (1571, 5)\n",
      "TimeAge: (450, 5)\n",
      "PatientInfo: (3326, 11)\n",
      "TimeProvince: (1564, 6)\n",
      "SeoulFloating (432000, 7)\n",
      "\n",
      "Row deleted during outlier removal is  Pandas(Index=64, date='2020-03-24', time=0, test=348582, negative=324105, confirmed=9037, released=3507, deceased=120, daily_confirmed=76, daily_deceased=9)\n"
     ]
    }
   ],
   "source": [
    "# Function to remove the outliers\n",
    "def remove_outlier(df, col, index):\n",
    "    \n",
    "    data = df[col].values.tolist()\n",
    "    data.sort()\n",
    "\n",
    "    q1 = 0.25\n",
    "    q2 = 0.5\n",
    "    q3 = 0.75\n",
    "\n",
    "    elem1 = data[math.ceil(len(data) * q1)]\n",
    "    elem2 = data[math.ceil(len(data) * q2)]\n",
    "    elem3 = data[math.ceil(len(data) * q3)]\n",
    "\n",
    "    #Identifying Inter-quartile range\n",
    "    iqrange = elem3 - elem1\n",
    "    lrange = elem1 - 1 * iqrange\n",
    "    rrange = elem3 + 1 * iqrange\n",
    "    \n",
    "    #Filter elements of outside range\n",
    "    itr = 0\n",
    "    for row in df.itertuples():\n",
    "        if(row[index] < lrange or row[index] > rrange):\n",
    "            print(\"\\nRow deleted during outlier removal is \", row)\n",
    "            df = df.drop(itr)\n",
    "            date_value = row[1]\n",
    "        itr = itr + 1\n",
    "    return df, date_value\n",
    "\n",
    "# Function to read the input data\n",
    "def read_data(input_file, col_list):\n",
    "    \n",
    "    if(len(col_list) > 0):\n",
    "        df = pd.read_csv(input_file, usecols = col_list)\n",
    "    else:\n",
    "        df = pd.read_csv(input_file)\n",
    "    \n",
    "    # Removing NULL/Missing values from dataset\n",
    "    itr = 0\n",
    "    for row in df.itertuples():\n",
    "        for i in range(1, len(df.columns) + 1):\n",
    "            if(pd.isnull(row[i]) == True):\n",
    "                df = df.drop(itr)\n",
    "                break\n",
    "        itr = itr + 1\n",
    "    return df\n",
    "    \n",
    "\n",
    "#PATH = '/content/drive/My Drive/Prob-Stats/'\n",
    "#PATH = '/content/drive/My Drive/Spring-20-cl/Probs-544/coronavirusdataset/'\n",
    "PATH = '/content/drive/My Drive/112609023/Data/'\n",
    "\n",
    "\n",
    "# Reading the data in dataframes \n",
    "input_file = PATH+'Weather.csv'\n",
    "col_list = ['province', 'date', 'avg_temp', 'min_temp', 'max_temp', \\\n",
    "            'precipitation', 'max_wind_speed', 'most_wind_direction', \\\n",
    "            'avg_relative_humidity']\n",
    "weather_df = read_data(input_file, col_list)\n",
    "\n",
    "input_file = PATH+'Time.csv'\n",
    "col_list = []\n",
    "time_df = read_data(input_file, col_list)\n",
    "\n",
    "input_file = PATH+'SearchTrend.csv'\n",
    "col_list = []\n",
    "trend_df = read_data(input_file, col_list)\n",
    "\n",
    "input_file = PATH+'TimeAge.csv'\n",
    "col_list = []\n",
    "timeage_df = read_data(input_file, col_list)\n",
    "\n",
    "input_file = PATH+'PatientInfo.csv'\n",
    "col_list = ['sex', 'birth_year', 'age', 'country', 'province', 'city', \\\n",
    "            'infection_case',  \"released_date\", \"deceased_date\",\\\n",
    "            'confirmed_date', 'state']\n",
    "patientinfo_df = pd.read_csv(input_file, usecols = col_list)\n",
    "\n",
    "input_file = PATH+'Case.csv'\n",
    "col_list = []\n",
    "cases_df = read_data(input_file, col_list)\n",
    "\n",
    "input_file = PATH+'TimeProvince.csv'\n",
    "col_list = []\n",
    "timeprovince_df = read_data(input_file, col_list)\n",
    "\n",
    "input_file = PATH+'SeoulFloating.csv'\n",
    "col_list = []\n",
    "floating_df = read_data(input_file, col_list)\n",
    "\n",
    "print(\"\\nData dimensions\")\n",
    "\n",
    "print(\"Weather:\",weather_df.shape)\n",
    "print(\"Time:\",time_df.shape)\n",
    "print(\"SearchTrend:\",trend_df.shape)\n",
    "print(\"TimeAge:\",timeage_df.shape)\n",
    "print(\"PatientInfo:\",patientinfo_df.shape)\n",
    "print(\"TimeProvince:\",timeprovince_df.shape)\n",
    "print(\"SeoulFloating\",floating_df.shape)\n",
    "\n",
    "itr = time_df.shape[0] - 1\n",
    "nconf = []\n",
    "ndec = []\n",
    "while(itr >= 1):\n",
    "    nconf.insert(0, time_df['confirmed'][itr] - time_df['confirmed'][itr - 1])\n",
    "    ndec.insert(0, time_df['deceased'][itr] - time_df['deceased'][itr - 1])\n",
    "    itr = itr - 1\n",
    "\n",
    "nconf.insert(0, time_df['confirmed'][0])\n",
    "ndec.insert(0, time_df['deceased'][0])\n",
    "\n",
    "time_df['daily_confirmed'] = nconf\n",
    "time_df['daily_deceased'] = ndec\n",
    "\n",
    "#Performing outlier on daily deceased data\n",
    "time_df, date_value = remove_outlier(time_df, 'daily_deceased', 9)\n",
    "new_date = date_value[6:7] + '/' + date_value[8:10] + '/' + date_value[0:4]\n",
    "\n",
    "# Remving the corresponding element in other datasets\n",
    "weather_df = weather_df[weather_df.date != new_date]\n",
    "trend_df = trend_df[trend_df.date != new_date]\n",
    "timeage_df = timeage_df[timeage_df.date != new_date]\n",
    "timeprovince_df = timeprovince_df[timeprovince_df.date != new_date]\n",
    "floating_df = floating_df[floating_df.date != new_date]"
   ]
  },
  {
   "cell_type": "markdown",
   "metadata": {
    "colab_type": "text",
    "id": "oo9h5ehG1zeJ"
   },
   "source": [
    "\n",
    "\n",
    "---\n",
    "\n",
    "\n",
    "\n",
    "---\n",
    "\n",
    "\n",
    "## **2. Exploratory Data Analysis (EDA)** "
   ]
  },
  {
   "cell_type": "markdown",
   "metadata": {
    "colab_type": "text",
    "id": "LZfAc9GCHcIN"
   },
   "source": [
    "- ### **EDA (1): What are the number of cases over time?**"
   ]
  },
  {
   "cell_type": "code",
   "execution_count": 118,
   "metadata": {
    "colab": {
     "base_uri": "https://localhost:8080/",
     "height": 0
    },
    "colab_type": "code",
    "id": "L1Dy4CHIvaUD",
    "outputId": "f6462f3e-9e4a-4292-c6d2-8856f9c5ff50"
   },
   "outputs": [
    {
     "data": {
      "image/png": "[encoded data removed]",
      "text/plain": [
       "<Figure size 1080x504 with 1 Axes>"
      ]
     },
     "metadata": {
      "needs_background": "light",
      "tags": []
     },
     "output_type": "display_data"
    }
   ],
   "source": [
    "# plotting number of cases over time\n",
    "\n",
    "time_pd = time_df.set_index('date')\n",
    "fig, ax = plt.subplots(figsize=(15,7))\n",
    "ax.plot(time_pd['test'], label='test', linestyle='dashed', color='#FFC301', linewidth=3, markersize=6)\n",
    "ax.plot(time_pd['negative'], label='negative', linestyle='dotted', color='#B6FF34', linewidth=3, markersize=6)\n",
    "ax.plot(time_pd['confirmed'], label='confirmed', color='#FF5733', linewidth=4, markersize=6)\n",
    "plt.title(\"Number of Cases over time\", fontsize=16)\n",
    "ax.xaxis.set_major_locator(ticker.MultipleLocator(10))\n",
    "plt.xlabel('Time', fontsize=16)\n",
    "plt.ylabel('Number of Cases', fontsize=16)\n",
    "plt.legend(loc='upper left', fancybox=True, fontsize=15, ncol=3, shadow=True)\n",
    "plt.show()"
   ]
  },
  {
   "cell_type": "markdown",
   "metadata": {
    "colab_type": "text",
    "id": "LFj0hN81ICuW"
   },
   "source": [
    "**Analysis:**\n",
    "1. Number of tests done were drastically increased from second last week of February (around Feb 19, 2020) until April 30th 2020 and still growing.\n",
    "\n",
    "2. Number of postive confirmed cases once it reached the peak around Feb 29,2020, started to decrease and became constant gradually, hence flattening the curve."
   ]
  },
  {
   "cell_type": "markdown",
   "metadata": {
    "colab_type": "text",
    "id": "VBa7HXOyIO4a"
   },
   "source": [
    "* ### **EDA (2): What are the confirmed cases at different age groups and gender?**"
   ]
  },
  {
   "cell_type": "code",
   "execution_count": 119,
   "metadata": {
    "colab": {
     "base_uri": "https://localhost:8080/",
     "height": 0
    },
    "colab_type": "code",
    "id": "LRNwe-a253Ss",
    "outputId": "d55c378f-e88e-4f3d-a804-9354175cdd4f"
   },
   "outputs": [
    {
     "data": {
      "image/png": "[encoded data removed]",
      "text/plain": [
       "<Figure size 1080x504 with 1 Axes>"
      ]
     },
     "metadata": {
      "needs_background": "light",
      "tags": []
     },
     "output_type": "display_data"
    }
   ],
   "source": [
    "# Filling null values with empty spaces\n",
    "patientinfo_df = patientinfo_df.fillna(\"\")\n",
    "\n",
    "# Finding last updated date of confirmed cases\n",
    "last_update = max(patientinfo_df['confirmed_date'])\n",
    "plt.figure(figsize=(15, 7))\n",
    "\n",
    "# creating age ranges for the x-axis \n",
    "order = ['0s','10s','20s','30s','40s','50s','60s','70s','80s','90s','100s']\n",
    "\n",
    "# plot\n",
    "sns.countplot(x=patientinfo_df['age'], hue=\"sex\", data=patientinfo_df,palette=[\"#4B8BBE\", \"#a4c330\"],order =order )\n",
    "plt.title('Confirmed Number of Cases by Age (as of {0})'.format(last_update), fontsize=16)\n",
    "plt.xticks(fontsize=12)\n",
    "plt.yticks(fontsize=12)\n",
    "plt.legend(loc=\"upper right\")\n",
    "plt.xlabel(\"Age range\", fontsize=16)\n",
    "plt.ylabel(\"Number of Cases\", fontsize=16)\n",
    "plt.show()"
   ]
  },
  {
   "cell_type": "markdown",
   "metadata": {
    "colab_type": "text",
    "id": "6vwZLwwMIfCC"
   },
   "source": [
    "**Analysis:**\n",
    "\n",
    "1. The age group in the **20s** range are found to have the most number of positive cases where the number of **female** are **more than** the **male** counterpart.\n",
    "\n",
    "2. Further risky zones in the age groups are the people in their **50s** and **40s** where again women are more prone to the virus than men.\n",
    "\n"
   ]
  },
  {
   "cell_type": "markdown",
   "metadata": {
    "colab_type": "text",
    "id": "K5C4gWDpIoZx"
   },
   "source": [
    "* ### **EDA (3): What are the known reasons of infection?** "
   ]
  },
  {
   "cell_type": "code",
   "execution_count": 120,
   "metadata": {
    "colab": {
     "base_uri": "https://localhost:8080/",
     "height": 523
    },
    "colab_type": "code",
    "id": "WoSB0C2R6CU_",
    "outputId": "f75f9d9a-ca15-422b-fe79-c8a363d09cad"
   },
   "outputs": [
    {
     "data": {
      "image/png": "[encoded data removed]",
      "text/plain": [
       "<Figure size 864x576 with 1 Axes>"
      ]
     },
     "metadata": {
      "needs_background": "light",
      "tags": []
     },
     "output_type": "display_data"
    }
   ],
   "source": [
    "# plotting known reasons of infection \n",
    "pat = patientinfo_df[(patientinfo_df['infection_case']!='') & (patientinfo_df['infection_case']!='etc')]\n",
    "reasons = list(pat['infection_case'].value_counts().index)\n",
    "plt.figure(figsize=(12, 8))\n",
    "sns.countplot(y = 'infection_case', data=pat, order=reasons)\n",
    "plt.title(\"Known reasons of infection\", fontsize=16)\n",
    "plt.xticks(fontsize=12)\n",
    "plt.yticks(fontsize=12)\n",
    "plt.xlabel(\"Count\", fontsize=16)\n",
    "plt.ylabel(\"Reason of infection\", fontsize=16)\n",
    "plt.show()"
   ]
  },
  {
   "cell_type": "markdown",
   "metadata": {
    "colab_type": "text",
    "id": "G9a8r6ZFI0yz"
   },
   "source": [
    "**Analysis:**\n",
    "\n",
    "We can infer from the above plot that the top 2 prime reasons of getting coronovirus infection is either **contact with other patients** or you have an **overseas travel history**. "
   ]
  },
  {
   "cell_type": "markdown",
   "metadata": {
    "colab_type": "text",
    "id": "R3G1WBk1I8xP"
   },
   "source": [
    "* ### **EDA (4): What is the ratio between the number of people who test positive and the number of people who died?**"
   ]
  },
  {
   "cell_type": "code",
   "execution_count": 121,
   "metadata": {
    "colab": {
     "base_uri": "https://localhost:8080/",
     "height": 0
    },
    "colab_type": "code",
    "id": "HLNW1Ste7A3d",
    "outputId": "86ff57b3-78e9-4ce2-f230-855c591eaf3a"
   },
   "outputs": [
    {
     "data": {
      "image/png": "[encoded data removed]",
      "text/plain": [
       "<Figure size 691.2x432 with 1 Axes>"
      ]
     },
     "metadata": {
      "needs_background": "light",
      "tags": []
     },
     "output_type": "display_data"
    }
   ],
   "source": [
    "# plotting ratio using lmplot (linear model plot)\n",
    "sns.lmplot(data=time_df,x=\"deceased\",y=\"confirmed\", height=6, aspect=1.6)\n",
    "plt.title(\"Ratio between people with COVID-19 tested positive and people died\", fontsize = 16)\n",
    "plt.ylabel(\"Number of confirmed cases\",fontsize=16)\n",
    "plt.xlabel(\"Number of deceased\",fontsize=16)\n",
    "plt.show()"
   ]
  },
  {
   "cell_type": "markdown",
   "metadata": {
    "colab_type": "text",
    "id": "PlWWqfq3JL5w"
   },
   "source": [
    "**Analysis:**\n",
    "This figure displays a scatterplot of two variables, x and y, and then fit the regression model y ~ x and plot the resulting regression line and a 95% confidence interval (shaded region over the line) for that regression. Here x is the dependent variable and y is the independent variable. \n",
    "\n",
    "From the above graph we can infer that there are a lot of people with statistically positive test results and as per the linear relation we see, it can be said that most of them seem to have recovered."
   ]
  },
  {
   "cell_type": "markdown",
   "metadata": {
    "colab_type": "text",
    "id": "6BIbzqBoJeho"
   },
   "source": [
    "* ### **EDA (5): What is the duration of infection for different age-groups?** "
   ]
  },
  {
   "cell_type": "code",
   "execution_count": 0,
   "metadata": {
    "colab": {},
    "colab_type": "code",
    "id": "xnHrGjgI7F9U"
   },
   "outputs": [],
   "source": [
    "# Calculating age groups in multiple of 10\n",
    "def age_group(age):\n",
    "    if age >= 0:\n",
    "        if age % 10 != 0:\n",
    "            up = int(math.ceil(age / 10.0)) * 10 - 1\n",
    "            low = int(math.floor(age / 10.0)) * 10\n",
    "            return f\"{low}-{up}\"\n",
    "        else:\n",
    "            up = int(age + 9) \n",
    "            low = int(age)  \n",
    "            return f\"{low}-{up}\"\n",
    "    return \"Unknown\"\n",
    "d_cols = [\"confirmed_date\", \"released_date\", \"deceased_date\"]\n",
    "\n",
    "for col in d_cols:\n",
    "    patientinfo_df[col] = pd.to_datetime(patientinfo_df[col])\n",
    "\n",
    "# Calculating birth year of each patient for current age \n",
    "patientinfo_df[\"current_age\"] = 2019 - pd.to_numeric(patientinfo_df[\"birth_year\"], errors='coerce')\n",
    "\n",
    "# Calculating age-range using the above pre-defined function\n",
    "patientinfo_df[\"age_range\"] = patientinfo_df[\"current_age\"].apply(age_group)\n",
    "\n",
    "# Calculating time to release and death since they have been confirmed positive\n",
    "patientinfo_df[\"time_to_release_since_confirmed\"] = patientinfo_df[\"released_date\"] - patientinfo_df[\"confirmed_date\"]\n",
    "patientinfo_df[\"time_to_death_since_confirmed\"] = patientinfo_df[\"deceased_date\"] - patientinfo_df[\"confirmed_date\"]\n",
    "patientinfo_df[\"duration_since_confirmed\"] = patientinfo_df[[\"time_to_release_since_confirmed\", \"time_to_death_since_confirmed\"]].min(axis=1)\n",
    "patientinfo_df[\"duration_days\"] = patientinfo_df[\"duration_since_confirmed\"].dt.days"
   ]
  },
  {
   "cell_type": "code",
   "execution_count": 123,
   "metadata": {
    "colab": {
     "base_uri": "https://localhost:8080/",
     "height": 0
    },
    "colab_type": "code",
    "id": "_1H8VSgS7LbP",
    "outputId": "18122e21-9738-45c0-a7ee-acdbfa5b8877"
   },
   "outputs": [
    {
     "data": {
      "image/png": "[encoded data removed]",
      "text/plain": [
       "<Figure size 864x576 with 1 Axes>"
      ]
     },
     "metadata": {
      "needs_background": "light",
      "tags": []
     },
     "output_type": "display_data"
    }
   ],
   "source": [
    "# filtering those patients which take atleast one day to recover or die within a minimum of one day span\n",
    "epm = patientinfo_df.loc[(patientinfo_df[\"time_to_death_since_confirmed\"].view(\"int64\") > 0) | (patientinfo_df[\"time_to_release_since_confirmed\"].view(\"int64\") > 0)]\n",
    "\n",
    "order_duration_age = sorted(patientinfo_df[\"age_range\"].unique())[:-1]\n",
    "\n",
    "# plot\n",
    "plt.figure(figsize=(12, 8))\n",
    "sns.boxplot(x=\"age_range\",y=\"duration_days\",order=order_duration_age,hue=\"state\", hue_order=[\"released\", \"deceased\"], data=epm)\n",
    "plt.title(\"Time from confirmation to release or death by age range\", fontsize=16)\n",
    "plt.xlabel(\"Age range\", fontsize=16)\n",
    "plt.ylabel(\"Days\", fontsize=16)\n",
    "plt.xticks(fontsize=12)\n",
    "plt.yticks(fontsize=12)\n",
    "plt.show()"
   ]
  },
  {
   "cell_type": "markdown",
   "metadata": {
    "colab_type": "text",
    "id": "N5QeboNKJ34T"
   },
   "source": [
    "**Analysis:**\n",
    "\n",
    "Above represents a box-plot which gives a statistic for different age-groups against their time of recovery or death from the day they got this infection.\n",
    "\n",
    "1. Firstly, its important to observe that higher age-groups (above the age of 50) are more prone to dying of this virus and they are unable to fight the virus for a longer time (mostly died within 10 days of getting infection). The probable reason could be low immunity rates as one ages.  \n",
    "\n",
    "2. Secondly, most age-groups recover from this virus (assuming they are healthy with good immunity) within 18-25 days i.e around 3 weeks of good care, as most have their median lying in that range.\n"
   ]
  },
  {
   "cell_type": "markdown",
   "metadata": {
    "colab_type": "text",
    "id": "LWRVhoyUJ99q"
   },
   "source": [
    "* ### **EDA (6): What are the daily number of new confirmed/released/deceased cases?**"
   ]
  },
  {
   "cell_type": "code",
   "execution_count": 0,
   "metadata": {
    "colab": {},
    "colab_type": "code",
    "id": "c91kTliV7UbD"
   },
   "outputs": [],
   "source": [
    "'''for col in time_df.columns[2:7]:\n",
    "    if col in [2, 4]:\n",
    "        new_dict = {0: 1}\n",
    "    else:\n",
    "        new_dict = {0: 0}\n",
    "    new_dict.update({ i : time_df[col][i] - time_df[col][i-1] for i in range(1, len(time_df)) })\n",
    "    time_df['new_{}'.format(col)] = new_dict.values()\n",
    "'''\n",
    "\n",
    "# Calculating daily number of tests and confirmed cases\n",
    "\n",
    "time_df['new_test'] = time_df.test.diff()\n",
    "time_df['new_negative'] = time_df.negative.diff()\n",
    "time_df['new_confirmed'] = time_df.confirmed.diff()\n",
    "time_df['new_released'] = time_df.released.diff()\n",
    "time_df['new_deceased'] = time_df.deceased.diff()\n",
    "\n",
    "time_df.new_test[0] = time_df.test[0]\n",
    "time_df.new_negative[0] = time_df.negative[0]\n",
    "time_df.new_confirmed[0] = time_df.confirmed[0]\n",
    "time_df.new_released[0] = time_df.released[0]\n",
    "time_df.new_deceased[0] = time_df.deceased[0]"
   ]
  },
  {
   "cell_type": "code",
   "execution_count": 125,
   "metadata": {
    "colab": {
     "base_uri": "https://localhost:8080/",
     "height": 0
    },
    "colab_type": "code",
    "id": "o2LKKM1A9WlG",
    "outputId": "e54b4dd1-35a4-424a-95b4-884cbe850315"
   },
   "outputs": [
    {
     "data": {
      "text/html": [
       "<div>\n",
       "<style scoped>\n",
       "    .dataframe tbody tr th:only-of-type {\n",
       "        vertical-align: middle;\n",
       "    }\n",
       "\n",
       "    .dataframe tbody tr th {\n",
       "        vertical-align: top;\n",
       "    }\n",
       "\n",
       "    .dataframe thead th {\n",
       "        text-align: right;\n",
       "    }\n",
       "</style>\n",
       "<table border=\"1\" class=\"dataframe\">\n",
       "  <thead>\n",
       "    <tr style=\"text-align: right;\">\n",
       "      <th></th>\n",
       "      <th>date</th>\n",
       "      <th>time</th>\n",
       "      <th>test</th>\n",
       "      <th>negative</th>\n",
       "      <th>confirmed</th>\n",
       "      <th>released</th>\n",
       "      <th>deceased</th>\n",
       "      <th>daily_confirmed</th>\n",
       "      <th>daily_deceased</th>\n",
       "      <th>new_test</th>\n",
       "      <th>new_negative</th>\n",
       "      <th>new_confirmed</th>\n",
       "      <th>new_released</th>\n",
       "      <th>new_deceased</th>\n",
       "    </tr>\n",
       "  </thead>\n",
       "  <tbody>\n",
       "    <tr>\n",
       "      <th>40</th>\n",
       "      <td>2020-02-29</td>\n",
       "      <td>16</td>\n",
       "      <td>94055</td>\n",
       "      <td>55723</td>\n",
       "      <td>3150</td>\n",
       "      <td>28</td>\n",
       "      <td>17</td>\n",
       "      <td>813</td>\n",
       "      <td>4</td>\n",
       "      <td>12888.0</td>\n",
       "      <td>7130.0</td>\n",
       "      <td>813.0</td>\n",
       "      <td>1.0</td>\n",
       "      <td>4.0</td>\n",
       "    </tr>\n",
       "  </tbody>\n",
       "</table>\n",
       "</div>"
      ],
      "text/plain": [
       "          date  time   test  ...  new_confirmed  new_released  new_deceased\n",
       "40  2020-02-29    16  94055  ...          813.0           1.0           4.0\n",
       "\n",
       "[1 rows x 14 columns]"
      ]
     },
     "execution_count": 125,
     "metadata": {
      "tags": []
     },
     "output_type": "execute_result"
    }
   ],
   "source": [
    "time_df[time_df[\"new_confirmed\"]==time_df[\"new_confirmed\"].max()]"
   ]
  },
  {
   "cell_type": "code",
   "execution_count": 126,
   "metadata": {
    "colab": {
     "base_uri": "https://localhost:8080/",
     "height": 0
    },
    "colab_type": "code",
    "id": "W4l4m9CI9eHX",
    "outputId": "5e6a2801-12a0-4a54-faa7-329b0895adfc"
   },
   "outputs": [
    {
     "data": {
      "image/png": "[encoded data removed]",
      "text/plain": [
       "<Figure size 936x504 with 1 Axes>"
      ]
     },
     "metadata": {
      "needs_background": "light",
      "tags": []
     },
     "output_type": "display_data"
    }
   ],
   "source": [
    "# plotting daily tests and confirmed cases with respect to time\n",
    "\n",
    "fig, ax = plt.subplots(figsize=(13, 7))\n",
    "plt.title('New Daily Tests and confirmed Cases', fontsize=15)\n",
    "i=0\n",
    "color = ['dodgerblue','orange','green','red','violet']\n",
    "for test in time_df.columns[9:]:\n",
    "   plt.plot(time_df.date,time_df[test], label=test, color = color[i])\n",
    "   labe=time_df[test]\n",
    "   i +=1\n",
    "ax.set_xticks(ax.get_xticks()[::11])\n",
    "ax.set_xlabel(\"Time\", fontsize=15)\n",
    "ax.set_ylabel(\"Count\", fontsize=15)\n",
    "ax.legend()\n",
    "plt.show()"
   ]
  },
  {
   "cell_type": "markdown",
   "metadata": {
    "colab_type": "text",
    "id": "NkfbgXuhKNo1"
   },
   "source": [
    "**Analysis:**\n",
    "1. We can see that the new testing, negative and confirmed cases have started to decrease since the peak. From the figure, we can roughly estimate that the peak occured around Feb 29, 2020 as shown by the bump in the green line (having more than 800 confirmed cases which we confirmed earlier).\n",
    "\n",
    "2. We can also see that the number of released / deceased cases kept on increasing (slight bump in the red and violet lines) up to 1 month after the peak, and then it began to decrease."
   ]
  },
  {
   "cell_type": "markdown",
   "metadata": {
    "colab_type": "text",
    "id": "V6idQvOAKsk9"
   },
   "source": [
    "### **Using X-Datasets**"
   ]
  },
  {
   "cell_type": "markdown",
   "metadata": {
    "colab_type": "text",
    "id": "KNTUwQdKK1hu"
   },
   "source": [
    "* ### **EDA (7): What is the analysis trend of different weather metrics vs. confirmed cases?**"
   ]
  },
  {
   "cell_type": "code",
   "execution_count": 0,
   "metadata": {
    "colab": {},
    "colab_type": "code",
    "id": "1ce1bx0XBK9w"
   },
   "outputs": [],
   "source": [
    "# Calculating province wise confirmed cases starting with top to bottom province\n",
    "cases = pd.DataFrame(cases_df.groupby(['province'])['confirmed'].sum().sort_values(ascending=False)).reset_index()"
   ]
  },
  {
   "cell_type": "code",
   "execution_count": 128,
   "metadata": {
    "colab": {
     "base_uri": "https://localhost:8080/",
     "height": 558
    },
    "colab_type": "code",
    "id": "DBSzbFXYFTJO",
    "outputId": "7d25ab1d-4ebf-4c52-8076-168a6a451abb"
   },
   "outputs": [
    {
     "data": {
      "text/html": [
       "<div>\n",
       "<style scoped>\n",
       "    .dataframe tbody tr th:only-of-type {\n",
       "        vertical-align: middle;\n",
       "    }\n",
       "\n",
       "    .dataframe tbody tr th {\n",
       "        vertical-align: top;\n",
       "    }\n",
       "\n",
       "    .dataframe thead th {\n",
       "        text-align: right;\n",
       "    }\n",
       "</style>\n",
       "<table border=\"1\" class=\"dataframe\">\n",
       "  <thead>\n",
       "    <tr style=\"text-align: right;\">\n",
       "      <th></th>\n",
       "      <th>province</th>\n",
       "      <th>confirmed</th>\n",
       "    </tr>\n",
       "  </thead>\n",
       "  <tbody>\n",
       "    <tr>\n",
       "      <th>0</th>\n",
       "      <td>Daegu</td>\n",
       "      <td>6650</td>\n",
       "    </tr>\n",
       "    <tr>\n",
       "      <th>1</th>\n",
       "      <td>Gyeongsangbuk-do</td>\n",
       "      <td>1314</td>\n",
       "    </tr>\n",
       "    <tr>\n",
       "      <th>2</th>\n",
       "      <td>Seoul</td>\n",
       "      <td>574</td>\n",
       "    </tr>\n",
       "    <tr>\n",
       "      <th>3</th>\n",
       "      <td>Gyeonggi-do</td>\n",
       "      <td>556</td>\n",
       "    </tr>\n",
       "    <tr>\n",
       "      <th>4</th>\n",
       "      <td>Busan</td>\n",
       "      <td>139</td>\n",
       "    </tr>\n",
       "    <tr>\n",
       "      <th>5</th>\n",
       "      <td>Chungcheongnam-do</td>\n",
       "      <td>137</td>\n",
       "    </tr>\n",
       "    <tr>\n",
       "      <th>6</th>\n",
       "      <td>Gyeongsangnam-do</td>\n",
       "      <td>115</td>\n",
       "    </tr>\n",
       "    <tr>\n",
       "      <th>7</th>\n",
       "      <td>Incheon</td>\n",
       "      <td>79</td>\n",
       "    </tr>\n",
       "    <tr>\n",
       "      <th>8</th>\n",
       "      <td>Gangwon-do</td>\n",
       "      <td>51</td>\n",
       "    </tr>\n",
       "    <tr>\n",
       "      <th>9</th>\n",
       "      <td>Sejong</td>\n",
       "      <td>46</td>\n",
       "    </tr>\n",
       "    <tr>\n",
       "      <th>10</th>\n",
       "      <td>Ulsan</td>\n",
       "      <td>42</td>\n",
       "    </tr>\n",
       "    <tr>\n",
       "      <th>11</th>\n",
       "      <td>Chungcheongbuk-do</td>\n",
       "      <td>38</td>\n",
       "    </tr>\n",
       "    <tr>\n",
       "      <th>12</th>\n",
       "      <td>Daejeon</td>\n",
       "      <td>34</td>\n",
       "    </tr>\n",
       "    <tr>\n",
       "      <th>13</th>\n",
       "      <td>Gwangju</td>\n",
       "      <td>30</td>\n",
       "    </tr>\n",
       "    <tr>\n",
       "      <th>14</th>\n",
       "      <td>Jeollanam-do</td>\n",
       "      <td>16</td>\n",
       "    </tr>\n",
       "    <tr>\n",
       "      <th>15</th>\n",
       "      <td>Jeollabuk-do</td>\n",
       "      <td>15</td>\n",
       "    </tr>\n",
       "    <tr>\n",
       "      <th>16</th>\n",
       "      <td>Jeju-do</td>\n",
       "      <td>13</td>\n",
       "    </tr>\n",
       "  </tbody>\n",
       "</table>\n",
       "</div>"
      ],
      "text/plain": [
       "             province  confirmed\n",
       "0               Daegu       6650\n",
       "1    Gyeongsangbuk-do       1314\n",
       "2               Seoul        574\n",
       "3         Gyeonggi-do        556\n",
       "4               Busan        139\n",
       "5   Chungcheongnam-do        137\n",
       "6    Gyeongsangnam-do        115\n",
       "7             Incheon         79\n",
       "8          Gangwon-do         51\n",
       "9              Sejong         46\n",
       "10              Ulsan         42\n",
       "11  Chungcheongbuk-do         38\n",
       "12            Daejeon         34\n",
       "13            Gwangju         30\n",
       "14       Jeollanam-do         16\n",
       "15       Jeollabuk-do         15\n",
       "16            Jeju-do         13"
      ]
     },
     "execution_count": 128,
     "metadata": {
      "tags": []
     },
     "output_type": "execute_result"
    }
   ],
   "source": [
    "cases.head(18)"
   ]
  },
  {
   "cell_type": "markdown",
   "metadata": {
    "colab_type": "text",
    "id": "oj2aXRsAdxBB"
   },
   "source": [
    "**Finding:**\n",
    "Above shows confirmed cases in the decreasing order of different provinces. **Daegu** province has the largest number of confirmed cases of **6650** as of 4/30/2020."
   ]
  },
  {
   "cell_type": "code",
   "execution_count": 0,
   "metadata": {
    "colab": {},
    "colab_type": "code",
    "id": "3oJWCeXzF6bH"
   },
   "outputs": [],
   "source": [
    "# Calculating average values of different weather statistics under the COVID period \n",
    "weather_cov = weather_df[weather_df.date >= '2020-01-20']\n",
    "weather_cov_type = weather_cov.loc[:, 'province':].groupby('province').mean()\n",
    "weather_cov_avg = pd.DataFrame([weather_cov_type.index,  weather_cov_type['precipitation'], weather_cov_type['avg_temp'], weather_cov_type['avg_relative_humidity'],weather_cov_type['max_wind_speed']]).T\n",
    "\n",
    "# ordering by confirmed cases\n",
    "sorter = list(cases.province[cases.province != 'Chunghceongbuk-do'].values)\n",
    "weather_cov_avg.columns = ['location', 'precipitation','temperature', 'relative_humidity','max_wind_speed']\n",
    "weather_cov_avg['location'] = weather_cov_avg['location'].astype('category')\n",
    "weather_cov_avg.location.cat.set_categories(sorter, inplace=True)\n",
    "weather_cov_avg = weather_cov_avg.sort_values(['location'])\n",
    "weather_cov_avg['location']= weather_cov_avg['location'].astype(str)"
   ]
  },
  {
   "cell_type": "code",
   "execution_count": 130,
   "metadata": {
    "colab": {
     "base_uri": "https://localhost:8080/",
     "height": 636
    },
    "colab_type": "code",
    "id": "9AcZENIeF8p8",
    "outputId": "41c5799b-3fbc-46ec-d45d-0daa19c5b511"
   },
   "outputs": [
    {
     "data": {
      "image/png": "[encoded data removed]",
      "text/plain": [
       "<Figure size 2160x1080 with 4 Axes>"
      ]
     },
     "metadata": {
      "needs_background": "light",
      "tags": []
     },
     "output_type": "display_data"
    }
   ],
   "source": [
    "# plotting the avg. weather statistics for all the provinces\n",
    "\n",
    "title_list = ['Average precipitation','Average temperature', 'Average relative humidity','Average Maximum Wind Speed']\n",
    "fig, axes = plt.subplots(nrows=2, ncols=2, figsize=(30, 15))\n",
    "fig.subplots_adjust(hspace=0.5)\n",
    "fig.suptitle('Weather vs. Confirmed cases (since 2019-11-17)',fontsize=25)\n",
    "j=0\n",
    "color_list = ['#8DD3C7', '#80ff80', '#BFBBD9', '#FA8174']\n",
    "for ax,col, title in zip(axes.flatten(),weather_cov_avg.columns[1:], title_list):\n",
    "    ax.set_title('{0} (since 2020-01-20)'.format(title), fontsize=15)\n",
    "    ax.set_xticklabels(weather_cov_avg.location,rotation=43)\n",
    "    ax.bar(weather_cov_avg.location, weather_cov_avg[col], color=color_list[j])\n",
    "    j+=1"
   ]
  },
  {
   "cell_type": "markdown",
   "metadata": {
    "colab_type": "text",
    "id": "FzJoAO_zK9es"
   },
   "source": [
    "**Analysis:** \n",
    "Here, we are trying to analyze weather vs. confirmed cases (since 2019-11-17) for different provinces in South Korea.\n",
    "\n",
    "- **Precipitation & humidity** have no correlation.\n",
    "- **Temperature** follows a weak negative correlation in general i.e the more colder, hence the more cases.\n",
    "- **Maximum wind speed** follows a weaker positive correlation except for one  location (with second highest number of cases) as shown in the graph.\n",
    "\n",
    "Overall, there is no significant correlation between weather and the total number of cases.\n"
   ]
  },
  {
   "cell_type": "markdown",
   "metadata": {
    "colab_type": "text",
    "id": "3mhSuwUnLFnV"
   },
   "source": [
    "* ### **EDA(8): What are the search trends related to Coronavirus and other Respiratory Diseases?**"
   ]
  },
  {
   "cell_type": "code",
   "execution_count": 131,
   "metadata": {
    "colab": {
     "base_uri": "https://localhost:8080/",
     "height": 463
    },
    "colab_type": "code",
    "id": "aPBfAVjGF-T3",
    "outputId": "c6e41147-6f90-4ea6-dc2d-5f3e50e897f7"
   },
   "outputs": [
    {
     "data": {
      "image/png": "[encoded data removed]",
      "text/plain": [
       "<Figure size 936x504 with 1 Axes>"
      ]
     },
     "metadata": {
      "needs_background": "light",
      "tags": []
     },
     "output_type": "display_data"
    }
   ],
   "source": [
    "# Making plot of search trends for respiratory diseases since the outbreak. \n",
    "# We take the logarithmic of the trend values in order to respond to skewness towards large values\n",
    "\n",
    "fig, ax = plt.subplots(figsize=(13, 7))\n",
    "plt.title('Search Trends Related to Respiratory Diseases (since the outbreak worldwide)', size=15)\n",
    "ax.set_xlabel('Time', size=13)\n",
    "ax.set_ylabel('Log of Relative interests in time range (%)', size=13)\n",
    "for column in trend_df.columns[1:]:\n",
    "    plt.plot(trend_df.date[trend_df.date >= '2019-11-17'], np.log((trend_df[trend_df.date >= '2019-11-17'][column])))\n",
    "ax.set_xticks(ax.get_xticks()[::int(len(trend_df.date[trend_df.date >= '2019-11-17'])/8)])\n",
    "ax.legend(['cold', 'flu', 'pneumonia','coronavirus'],loc='upper left')\n",
    "plt.show()"
   ]
  },
  {
   "cell_type": "markdown",
   "metadata": {
    "colab_type": "text",
    "id": "fozvDBo_LRBr"
   },
   "source": [
    "**Analysis:**\n",
    "\n",
    "The above represents the **log visualization** of relative search interests of people in the given time range.\n",
    "\n",
    "1. The search of term \"coronavirus\" began around late December when it had severly hit the city of Wuhan, the epicentre of this virus.\n",
    "\n",
    "2. Increase in the search of pneumonia was prior to that of coronavirus because it was also called Wuhan pneumonia initially in South Korea (Referrence : Google).\n",
    "\n",
    "3. Since then, coronavirus kept dominating in the search trends. On Jan 23, 2020, three days after the 1st case in South Korea, it reached 100% significance in the search trends.\n",
    "\n",
    "4. There has been no distinct change occured for about 2 months. The number of searches have started to decrease gradually as the situation had been taken under control."
   ]
  },
  {
   "cell_type": "markdown",
   "metadata": {
    "colab_type": "text",
    "id": "hEsoRa2vLXNL"
   },
   "source": [
    "* ### **EDA(9): What are the Search Trends Related to Different Respiratory Diseases since the 1st case in South Korea?**"
   ]
  },
  {
   "cell_type": "code",
   "execution_count": 132,
   "metadata": {
    "colab": {
     "base_uri": "https://localhost:8080/",
     "height": 463
    },
    "colab_type": "code",
    "id": "6038W1I9GJUs",
    "outputId": "0facda20-973a-4852-cc9b-1f6a91a1678f"
   },
   "outputs": [
    {
     "data": {
      "image/png": "[encoded data removed]",
      "text/plain": [
       "<Figure size 936x504 with 2 Axes>"
      ]
     },
     "metadata": {
      "needs_background": "light",
      "tags": []
     },
     "output_type": "display_data"
    }
   ],
   "source": [
    "# Calculating plot for search Trends for Different Respiratory Diseases \n",
    "\n",
    "fig, ax1 = plt.subplots(figsize=(13, 7))\n",
    "plt.title('Search Trends Related to Different Respiratory Diseases (since the 1st case in South Korea)', size=15)\n",
    "ax1.set_xlabel('Days after 2020-01-20', size=13)\n",
    "ax1.set_ylabel('Relative interests in time range (%)', size=13)\n",
    "for column in trend_df.columns[1:]:ax1.plot(trend_df[trend_df.date >= '2020-01-20'].date, trend_df[trend_df.date >= '2020-01-20'][column])\n",
    "ax1.set_xticks(ax1.get_xticks()[::14])\n",
    "ax1.legend(['cold', 'flu', 'pneumonia','coronavirus'],loc='center right')\n",
    "\n",
    "# Calculating plot for new Daily Confirmed Cases\n",
    "ax2 = ax1.twinx()\n",
    "ax2.grid(False)\n",
    "ax2.set_ylabel(\"Number of cases\", size=13)\n",
    "ax2.plot(time_df.date[:-1], time_df.new_confirmed[:-1], label='new daily confirmed cases', color='dimgray',lw=3, ls=':')\n",
    "ax2.set_xticks(ax2.get_xticks()[::14])\n",
    "ax2.legend(loc='upper right')\n",
    "\n",
    "plt.show()\n"
   ]
  },
  {
   "cell_type": "markdown",
   "metadata": {
    "colab_type": "text",
    "id": "F2XYaalTLc_Z"
   },
   "source": [
    "**Analysis:**\n",
    "\n",
    "1. After it passes the first peak, searches on Coronavirus had been decreasing for about 1 month as shown in the graph.\n",
    "\n",
    "2. Around Feb 21, 2020 the mass confirmations in Daegu occured which probably have boosted the search on coronavirus just before then (around Feb 19, 2020). The underlying assumption could be that public already heard of having massive infections happening there.\n",
    "\n",
    "3. After we saw the 2nd peak on Feb 22, 2020 the search volume has been shrinking again. Probably post that, the curve had started flattening and hence now its lower than that on the day of the 1st case in South Korea.\n"
   ]
  },
  {
   "cell_type": "markdown",
   "metadata": {
    "colab_type": "text",
    "id": "QjL3EhqktELy"
   },
   "source": [
    "\n",
    "---\n",
    "---\n",
    "# **3. Required Inferences**"
   ]
  },
  {
   "cell_type": "markdown",
   "metadata": {
    "colab_type": "text",
    "id": "nQI8e67IMX5F"
   },
   "source": [
    "-------\n",
    "## **3.1 Fatality and Cases Prediction**\n",
    "\n",
    "**Duration:** *02-19-2020 to 03-19-2020*\n",
    "\n",
    "* We have selected the above one month data to train our models using first 3 weeks data and then predict the last week.\n",
    "* This particular time period is chosen as the maximum variation in cases was reported during this period.\n",
    "\n",
    "**Note:** We have dropped the rows having death count per day as 0 to ease our calculation of MAPE "
   ]
  },
  {
   "cell_type": "code",
   "execution_count": 0,
   "metadata": {
    "colab": {},
    "colab_type": "code",
    "id": "0c3Nj3As0_Nk"
   },
   "outputs": [],
   "source": [
    "# Selecting a period of 1 month for the analysis\n",
    "month_data = time_df.copy()\n",
    "month_data['date'] = month_data['date'].astype('datetime64[ns]') \n",
    "month_data['daily_cases'] = month_data.confirmed.diff()\n",
    "month_data['daily_deaths'] = month_data.deceased.diff()\n",
    "\n",
    "month_data = month_data[month_data.daily_deaths != 0]   #Dropping rows where no. of deaths is 0\n",
    "month_data = month_data[month_data['date'].between('2020-02-19', '2020-03-23', inclusive=False)]\n"
   ]
  },
  {
   "cell_type": "markdown",
   "metadata": {
    "colab_type": "text",
    "id": "989rtbvOy47P"
   },
   "source": [
    " * ### **Auto Regression (AR)**\n",
    "\n",
    "**Formulas Used:**\n",
    "$$ \\hat{\\beta} = (X^T.X)^{-1}X^T Y$$\n",
    "\n",
    "$$ AR(3):  \\hat{y}_{t+1|t} = \\beta_0 y_t+\\beta_1 y_{t-1}+\\beta_2y_{t-2}+\\beta_3y_{t-3} $$\n",
    "\n",
    "$$ AR(5):  \\hat{y}_{t+1|t} = \\beta_0 y_t+\\beta_1 y_{t-1}+\\beta_2y_{t-2}+\\beta_3y_{t-3}+\\beta_3y_{t-4}+\\beta_3y_{t-5} $$\n",
    "\\\\\n",
    "$$ MAPE: \\sum_{i=1}^{n} \\frac{|Y_{i}-\\hat{Y}_i|} {n} \\times 100 $$\n",
    "\n",
    "$$ MSE: \\frac{1}{n} \\sum_{i=1}^{n} (Y_{i}-\\hat{Y}_i)^2 $$\n"
   ]
  },
  {
   "cell_type": "code",
   "execution_count": 134,
   "metadata": {
    "colab": {
     "base_uri": "https://localhost:8080/",
     "height": 0
    },
    "colab_type": "code",
    "id": "cu-YRx0by4XD",
    "outputId": "3d8ff96d-a434-4ebb-c88a-8d2a11a950cc"
   },
   "outputs": [
    {
     "data": {
      "text/html": [
       "<div>\n",
       "<style scoped>\n",
       "    .dataframe tbody tr th:only-of-type {\n",
       "        vertical-align: middle;\n",
       "    }\n",
       "\n",
       "    .dataframe tbody tr th {\n",
       "        vertical-align: top;\n",
       "    }\n",
       "\n",
       "    .dataframe thead th {\n",
       "        text-align: right;\n",
       "    }\n",
       "</style>\n",
       "<table border=\"1\" class=\"dataframe\">\n",
       "  <thead>\n",
       "    <tr style=\"text-align: right;\">\n",
       "      <th></th>\n",
       "      <th>p</th>\n",
       "      <th>MAPE(#Cases)</th>\n",
       "      <th>MSE(#Cases)</th>\n",
       "      <th>MSE(#Deaths)</th>\n",
       "      <th>MAPE(#Deaths)</th>\n",
       "    </tr>\n",
       "  </thead>\n",
       "  <tbody>\n",
       "    <tr>\n",
       "      <th>1</th>\n",
       "      <td>3</td>\n",
       "      <td>115.916224</td>\n",
       "      <td>8249.418689</td>\n",
       "      <td>3.687898</td>\n",
       "      <td>22.347326</td>\n",
       "    </tr>\n",
       "    <tr>\n",
       "      <th>2</th>\n",
       "      <td>5</td>\n",
       "      <td>215.991328</td>\n",
       "      <td>33280.187488</td>\n",
       "      <td>3.816113</td>\n",
       "      <td>24.757293</td>\n",
       "    </tr>\n",
       "  </tbody>\n",
       "</table>\n",
       "</div>"
      ],
      "text/plain": [
       "   p  MAPE(#Cases)   MSE(#Cases)  MSE(#Deaths)  MAPE(#Deaths)\n",
       "1  3    115.916224   8249.418689      3.687898      22.347326\n",
       "2  5    215.991328  33280.187488      3.816113      24.757293"
      ]
     },
     "execution_count": 134,
     "metadata": {
      "tags": []
     },
     "output_type": "execute_result"
    }
   ],
   "source": [
    "#Below function is used to calculate errors like MAPE and MSE \n",
    "def errors(y_test,y_pred):\n",
    "    n = len(y_test)\n",
    "    ape = 0\n",
    "    sse = 0\n",
    "    for i in range(n):\n",
    "        sse += (y_test[i]-y_pred[i])**2\n",
    "        ape += (abs(y_test[i]-y_pred[i])*100)/y_test[i]\n",
    "        \n",
    "    mse = sse/n\n",
    "    mape = ape/n\n",
    "    return mse,mape\n",
    "\n",
    "#Below function is used to calculate Beta Matrix as per\n",
    "def beta_cal(x,y):\n",
    "    Xtrans = x.transpose()\n",
    "    Xtrans_X = np.dot(Xtrans,x)\n",
    "    Xtrans_X_inv = np.linalg.inv(Xtrans_X)\n",
    "    Xtrans_Y = np.dot(Xtrans,y)\n",
    "    Beta_vals = np.dot(Xtrans_X_inv,Xtrans_Y)\n",
    "    return Beta_vals\n",
    "\n",
    "lag = [3,5]\n",
    "cases_mape = []\n",
    "cases_mse = []\n",
    "death_mape = []\n",
    "death_mse = []\n",
    "\n",
    "data = ['daily_cases','daily_deaths']\n",
    "\n",
    "for p in lag:\n",
    "    for col in data:\n",
    "        observed = month_data[col].to_list()\n",
    "\n",
    "        #Split data in 3 weeks train and 1 week test\n",
    "        train, test = month_data[col][:21].to_numpy(), month_data[col][21:].to_numpy()\n",
    "        \n",
    "        y_pred = []\n",
    "        for j in range(7):  #Loop runs 7 times to predict last week data\n",
    "            X = []\n",
    "            Y = []\n",
    "\n",
    "            #Below portion is used to create matrix form of X and Y set\n",
    "            for i in range(0,len(train),1):\n",
    "                if (i+p+1)<len(train):\n",
    "                    temp = np.array([1])\n",
    "                    temp = np.append(temp, train[i:i+p])\n",
    "                    Y.append(train[i+p])\n",
    "                    X.append(temp)\n",
    "            X = np.array(X)\n",
    "            Y = np.reshape(Y, (-1,1))\n",
    "\n",
    "            #Beta matrix is recalculated for every prediction value\n",
    "            Beta = beta_cal(X,Y)            \n",
    "\n",
    "            y_hat = 0\n",
    "            k=1\n",
    "            #Below loop is used to calculate y prediction using beta values\n",
    "            for j in range(len(train)-1,len(train)-1-p,-1):\n",
    "                y_hat += Beta[k]*observed[j]\n",
    "                k +=1\n",
    "            y_hat += Beta[0]\n",
    "            train=np.append(train,y_hat)\n",
    "            y_pred.append(y_hat)\n",
    "        \n",
    "        mse,mape = errors(test,y_pred)  #Obtaining MSE and MAPE for predictions\n",
    "\n",
    "        if col=='daily_cases':\n",
    "            cases_mape.append(mape[0])\n",
    "            cases_mse.append(mse[0])\n",
    "        else:\n",
    "            death_mape.append(mape[0])\n",
    "            death_mse.append(mse[0])\n",
    "\n",
    "#Collecting all outputs in a dataframe    \n",
    "tdata1={\n",
    "'p':lag,\n",
    "'MAPE(#Cases)':cases_mape,\n",
    "'MSE(#Cases)':cases_mse,\n",
    "'MSE(#Deaths)':death_mse,\n",
    "'MAPE(#Deaths)':death_mape,\n",
    "}\n",
    "table1=pd.DataFrame(tdata1)\n",
    "table1.index = range(1,3)\n",
    "table1"
   ]
  },
  {
   "cell_type": "markdown",
   "metadata": {
    "colab_type": "text",
    "id": "HaMByPeJzQj8"
   },
   "source": [
    "* ### **EWMA**\n",
    "\n",
    "**Formula Used:**\n",
    "$$\\hat{y}_{t+1|t}=\\alpha(y_t+(1-\\alpha)\\hat{y}_{t-1}+(1-\\alpha)^2\\hat{y}_{t-2} ....)$$"
   ]
  },
  {
   "cell_type": "code",
   "execution_count": 135,
   "metadata": {
    "colab": {
     "base_uri": "https://localhost:8080/",
     "height": 0
    },
    "colab_type": "code",
    "id": "5fXFbx6dy5Xd",
    "outputId": "5bc31721-ff72-4194-e72e-3006cc2c8c86"
   },
   "outputs": [
    {
     "data": {
      "text/html": [
       "<div>\n",
       "<style scoped>\n",
       "    .dataframe tbody tr th:only-of-type {\n",
       "        vertical-align: middle;\n",
       "    }\n",
       "\n",
       "    .dataframe tbody tr th {\n",
       "        vertical-align: top;\n",
       "    }\n",
       "\n",
       "    .dataframe thead th {\n",
       "        text-align: right;\n",
       "    }\n",
       "</style>\n",
       "<table border=\"1\" class=\"dataframe\">\n",
       "  <thead>\n",
       "    <tr style=\"text-align: right;\">\n",
       "      <th></th>\n",
       "      <th>α</th>\n",
       "      <th>MAPE(#Cases)</th>\n",
       "      <th>MSE(#Cases)</th>\n",
       "      <th>MSE(#Deaths)</th>\n",
       "      <th>MAPE(#Deaths)</th>\n",
       "    </tr>\n",
       "  </thead>\n",
       "  <tbody>\n",
       "    <tr>\n",
       "      <th>1</th>\n",
       "      <td>0.5</td>\n",
       "      <td>25.179449</td>\n",
       "      <td>474.685547</td>\n",
       "      <td>1.566907</td>\n",
       "      <td>30.442294</td>\n",
       "    </tr>\n",
       "    <tr>\n",
       "      <th>2</th>\n",
       "      <td>0.8</td>\n",
       "      <td>10.466499</td>\n",
       "      <td>82.108888</td>\n",
       "      <td>0.387675</td>\n",
       "      <td>16.485907</td>\n",
       "    </tr>\n",
       "  </tbody>\n",
       "</table>\n",
       "</div>"
      ],
      "text/plain": [
       "     α  MAPE(#Cases)  MSE(#Cases)  MSE(#Deaths)  MAPE(#Deaths)\n",
       "1  0.5     25.179449   474.685547      1.566907      30.442294\n",
       "2  0.8     10.466499    82.108888      0.387675      16.485907"
      ]
     },
     "execution_count": 135,
     "metadata": {
      "tags": []
     },
     "output_type": "execute_result"
    }
   ],
   "source": [
    "alpha=[0.5,0.8]\n",
    "cases_mape = []\n",
    "cases_mse = []\n",
    "death_mape = []\n",
    "death_mse = []\n",
    "\n",
    "data = ['daily_cases','daily_deaths']\n",
    "\n",
    "for a in alpha:\n",
    "    for col in data:\n",
    "\n",
    "        #Split data in 3 weeks train and 1 week test        \n",
    "        train, test = month_data[col][:21].to_list(), month_data[col][21:].to_list()\n",
    "        \n",
    "        y_pred = []\n",
    "        for i in range(7): #Loop runs 7 times to predict last week data\n",
    "            yt = 0\n",
    "            power = 1\n",
    "\n",
    "            #Below loop is used to calculate y predicted values\n",
    "            for j in range(len(train)-1 ,-1,-1):\n",
    "                #Multiply (1-a)^power with previous predicted y\n",
    "                yt += (train[j]*((1-a)**power)) \n",
    "                power+= 1\n",
    "            yt += test[i]   #Adding the true value of y for the particular day\n",
    "\n",
    "            train.append(a*yt)\n",
    "            y_pred.append(a*yt)\n",
    "                    \n",
    "        mse,mape = errors(test,y_pred)  #Obtaining MSE and MAPE for predictions\n",
    "        \n",
    "        if col=='daily_cases':\n",
    "            cases_mape.append(mape)\n",
    "            cases_mse.append(mse)\n",
    "        else:\n",
    "            death_mape.append(mape)\n",
    "            death_mse.append(mse)\n",
    "            \n",
    "#Collecting all outputs in a dataframe \n",
    "tdata2={\n",
    "'\\u03B1':alpha,\n",
    "'MAPE(#Cases)':cases_mape,\n",
    "'MSE(#Cases)':cases_mse,\n",
    "'MSE(#Deaths)':death_mse,\n",
    "'MAPE(#Deaths)':death_mape,\n",
    "}\n",
    "table2=pd.DataFrame(tdata2)\n",
    "table2.index = range(1,3)\n",
    "table2"
   ]
  },
  {
   "cell_type": "markdown",
   "metadata": {
    "colab_type": "text",
    "id": "XjQPYLmrpUjJ"
   },
   "source": [
    "-------\n",
    "## **3.2 Hypothesis Testing (Wald's, Z, T tests)**\n",
    "\n",
    "In this task we proceed to compare the number of deaths and cases data of last and second last week."
   ]
  },
  {
   "cell_type": "code",
   "execution_count": 136,
   "metadata": {
    "colab": {
     "base_uri": "https://localhost:8080/",
     "height": 0
    },
    "colab_type": "code",
    "id": "5CegXJ-6pfG1",
    "outputId": "9456fe4b-38d6-435e-86e0-00d0a3e7f2b8"
   },
   "outputs": [
    {
     "name": "stdout",
     "output_type": "stream",
     "text": [
      "[  1.   0.   0.   0.   1.   0.   1.   1.   0.   0.   2.   5.   1.   3.\n",
      "   0.   1.   2.   5.   1.   0.   3.   0.   1.   0.   0.   0.   0.   1.\n",
      "   1.   1.  20.  53. 100. 229. 169. 231. 144. 284. 505. 571. 813. 586.\n",
      " 476. 600. 516. 438. 518. 483. 367. 248. 131. 242. 114. 110. 107.  40.\n",
      " 110.  84.  93. 152.  87. 147.  98.  64. 176. 104.  91. 146. 105.  78.\n",
      " 125. 101.  89.  86.  94.  81.  47.  47.  53.  39.  27.  30.  32.  25.\n",
      "  27.  27.  22.  22.  18.   8.  13.   9.  11.   8.   6.  10.  10.  10.\n",
      "  14.   9.   4.]\n"
     ]
    }
   ],
   "source": [
    "time_data = time_df.copy()\n",
    "cases_by_date = time_data['confirmed'].values\n",
    "deaths_by_date = time_data['deceased'].values\n",
    "# We convert from Cumulative to Daily data for each case in this cell.\n",
    "new_cases_by_date =  np.zeros(shape=(len(cases_by_date),))\n",
    "new_deaths_by_date = np.zeros(shape=(len(deaths_by_date),))\n",
    "for i in range(len(cases_by_date)):\n",
    "  new_cases_by_date[i] = cases_by_date[i]\n",
    "  new_deaths_by_date[i] = deaths_by_date[i]\n",
    "  if i == 0:\n",
    "    continue\n",
    "  new_cases_by_date[i] = cases_by_date[i] - cases_by_date[i-1]\n",
    "  new_deaths_by_date[i] = deaths_by_date[i] - deaths_by_date[i-1]\n",
    "print(new_cases_by_date)"
   ]
  },
  {
   "cell_type": "markdown",
   "metadata": {
    "colab_type": "text",
    "id": "p4TlaYqqppv5"
   },
   "source": [
    "**One sample Wald's test**:\n",
    "\n",
    "In this test we have that the underlying distribution is Poission. \n",
    "\n",
    "* By applying MLE method, we get that the estimator is Sample mean itself.\n",
    "* Since variance of Poisson is lambda, we compute the standard error for Wald's accordingly."
   ]
  },
  {
   "cell_type": "code",
   "execution_count": 0,
   "metadata": {
    "colab": {},
    "colab_type": "code",
    "id": "xFGC0p5tpu21"
   },
   "outputs": [],
   "source": [
    "def compute_walds_statistics_one_sample(lst_week, sclst_week):\n",
    "  n = len(lst_week)\n",
    "  # z alpha/2\n",
    "  critical_value_normal = 1.96\n",
    "\n",
    "  # 1-sample Wald's test\n",
    "  mean_estimate = lst_week.sum()/n*1.0   # sample mean using last week data\n",
    "  mean_true = sclst_week.sum()/n*1.0     # true mean for hypothesis\n",
    "\n",
    "  # For poisson since variance is lambda, std_err = sqrt( sample_mean / n)(using plugin estimator)\n",
    "  std_error = sqrt(mean_estimate/n*1.0)\n",
    "\n",
    "  # computing statistic here\n",
    "  walds_statistic = abs((mean_estimate - mean_true)/std_error) \n",
    "\n",
    "  if walds_statistic > critical_value_normal:\n",
    "    print(\"Walds one sample Test rejects the null hypothesis of last week mean equal to second last week mean: Statistic is %0.3f\" % (walds_statistic))\n",
    "  else:\n",
    "    print(\"Walds one sample Test accepts the null hypothesis of last week mean equal to second last week mean: Statistic is %0.3f\" % (walds_statistic))"
   ]
  },
  {
   "cell_type": "markdown",
   "metadata": {
    "colab_type": "text",
    "id": "fizWrYCKpx1a"
   },
   "source": [
    "**Two sample Wald's test**"
   ]
  },
  {
   "cell_type": "code",
   "execution_count": 0,
   "metadata": {
    "colab": {},
    "colab_type": "code",
    "id": "9tc9VvY5p04w"
   },
   "outputs": [],
   "source": [
    "def compute_walds_statistics_two_sample(lst_week, sclst_week):\n",
    "  n = len(lst_week)\n",
    "  # z alpha/2\n",
    "  critical_value_normal = 1.96\n",
    "\n",
    "  # 2-sample Wald's Test\n",
    "  mean_1_estimate = lst_week.sum()/n*1.0       # sample mean using last week data\n",
    "  mean_2_estimate = sclst_week.sum()/n*1.0     # sample mean using second last week data\n",
    "\n",
    "  # Computing standard error using the sample variance of the two means sqrt(var(1)/n + var(2)/n)\n",
    "  sample_1_var = mean_1_estimate/n*1.0\n",
    "  sample_2_var = mean_2_estimate/n*1.0\n",
    "  \n",
    "  std_error_2_sample = sqrt(sample_1_var + sample_2_var)\n",
    "\n",
    "  # computing statistic here\n",
    "  walds_2_statistic = abs((mean_1_estimate - mean_2_estimate - 0)/std_error_2_sample)\n",
    "\n",
    "  if walds_2_statistic > critical_value_normal:\n",
    "    print(\"Walds 2 population Test rejects the hypothesis that means of 2 distributions are equal: statistic is %0.3f\" % (walds_2_statistic))\n",
    "  else:\n",
    "    print(\"Walds 2 population Test accepts the hypothesis that means of 2 distributions are equal: statistic is %0.3f\" % (walds_2_statistic))"
   ]
  },
  {
   "cell_type": "markdown",
   "metadata": {
    "colab_type": "text",
    "id": "LWgNgq_mp4YP"
   },
   "source": [
    "**One sample Z-test**"
   ]
  },
  {
   "cell_type": "code",
   "execution_count": 0,
   "metadata": {
    "colab": {},
    "colab_type": "code",
    "id": "N_27vKkap7fh"
   },
   "outputs": [],
   "source": [
    "def compute_z_statistics(lst_week, sclst_week, total):\n",
    "  n = len(lst_week)\n",
    "  total_len = len(total)\n",
    "  total_mn = total.mean()\n",
    "  # z alpha/2\n",
    "  critical_value_normal = 1.96\n",
    "\n",
    "  # 1-sample Z test\n",
    "  mean_estimate = lst_week.sum()/n*1.0   # sample mean using last week data\n",
    "  mean_true = sclst_week.sum()/n*1.0     # true mean for hypothesis\n",
    "\n",
    "  # True standard deviation of data is sample std deviation of whole data.\n",
    "  stddev = 0\n",
    "  for v in total:\n",
    "    stddev += (v - total_mn)*(v - total_mn)/(total_len*1.0)\n",
    "\n",
    "  denom = sqrt(stddev)/sqrt(n)\n",
    "\n",
    "  # computing statistic here\n",
    "  z_statistic = abs((mean_estimate - mean_true)/denom) \n",
    "\n",
    "  if z_statistic > critical_value_normal:\n",
    "    print(\"Z Test rejects the hypothesis of last week mean equal to second last week mean: statistic is %0.3f\" % (z_statistic))\n",
    "  else:\n",
    "    print(\"Z Test accepts the hypothesis of last week mean equal to second last week mean: statistic is %0.3f\" % (z_statistic))"
   ]
  },
  {
   "cell_type": "markdown",
   "metadata": {
    "colab_type": "text",
    "id": "qvJcS6gbp-s3"
   },
   "source": [
    "**One sample T-test**"
   ]
  },
  {
   "cell_type": "code",
   "execution_count": 0,
   "metadata": {
    "colab": {},
    "colab_type": "code",
    "id": "BxD-rwkgqCJp"
   },
   "outputs": [],
   "source": [
    "def compute_t_statistics_one_sample(lst_week, sclst_week):\n",
    "  #What follows are 1-sample versions of the tests\n",
    "  \n",
    "  n = len(lst_week)\n",
    "  # t(n-1, alpha/2)\n",
    "  critical_value_t = 2.447\n",
    "\n",
    "  # 1-sample T test\n",
    "  mean_estimate = lst_week.sum()/n*1.0   # sample mean using last week data\n",
    "  mean_true = sclst_week.sum()/n*1.0     # true mean for hypothesis\n",
    "\n",
    "  # Computing sample standard deviation using the sample standard deviation(s/sqrt(n))\n",
    "  stddev = 0\n",
    "  for v in lst_week:\n",
    "    stddev += (v - mean_estimate)*(v - mean_estimate)/(n*1.0)\n",
    "  stddev = sqrt(stddev)/sqrt(n)\n",
    "\n",
    "  # computing statistic here\n",
    "  t_statistic = abs((mean_estimate - mean_true)/stddev) \n",
    "\n",
    "  if t_statistic > critical_value_t:\n",
    "    print(\"T Test rejects the hypothesis of last week mean equal to second last week mean: statistic is %0.3f\" % (t_statistic))\n",
    "  else:\n",
    "    print(\"T Test accepts the hypothesis of last week mean equal to second last week mean: statistic is %0.3f\" % (t_statistic))"
   ]
  },
  {
   "cell_type": "markdown",
   "metadata": {
    "colab_type": "text",
    "id": "D385BCQcqFV6"
   },
   "source": [
    "**Unpaired T-test**"
   ]
  },
  {
   "cell_type": "code",
   "execution_count": 0,
   "metadata": {
    "colab": {},
    "colab_type": "code",
    "id": "Y-VyH73xqIZP"
   },
   "outputs": [],
   "source": [
    "def compute_t_statistics_unpaired(lst_week, sclst_week):\n",
    "  n = len(lst_week)\n",
    "\n",
    "  # 2-sample Unpaired T Test\n",
    "  mean_1_estimate = lst_week.sum()/n*1.0       # sample mean using last week data\n",
    "  mean_2_estimate = sclst_week.sum()/n*1.0     # sample mean using second last week data\n",
    "  critical_value_t = 2.179                     # T (7+7-2, alpha/2)\n",
    "\n",
    "  # Computing standard error using the sample variance of the two means sqrt(var(1) + var(2))\n",
    "  sample_1_var = 0\n",
    "  sample_2_var = 0\n",
    "  for i in range(len(lst_week)):\n",
    "    sample_1_var += (lst_week[i] - mean_1_estimate)*(lst_week[i] - mean_1_estimate)/(n*1.0)\n",
    "    sample_2_var += (sclst_week[i] - mean_2_estimate)*(sclst_week[i] - mean_2_estimate)/(n*1.0)\n",
    "  \n",
    "  std_error_2_sample = sqrt(sample_1_var + sample_2_var)\n",
    "\n",
    "  # computing statistic here\n",
    "  t_2_statistic = abs((mean_1_estimate - mean_2_estimate - 0)/std_error_2_sample)\n",
    "\n",
    "  if t_2_statistic > critical_value_t:\n",
    "    print(\"Unpaired T-test rejects the hypothesis that means of 2 distributions are equal: statistic is %0.3f\" % (t_2_statistic))\n",
    "  else:\n",
    "    print(\"Unpaired T-test accepts the hypothesis that means of 2 distributions are equal: statistic is %0.3f\" % (t_2_statistic))\n"
   ]
  },
  {
   "cell_type": "markdown",
   "metadata": {
    "colab_type": "text",
    "id": "jfOf-cQKqMHw"
   },
   "source": [
    "**Paired T-test**"
   ]
  },
  {
   "cell_type": "code",
   "execution_count": 0,
   "metadata": {
    "colab": {},
    "colab_type": "code",
    "id": "bHq0rhVSqPTJ"
   },
   "outputs": [],
   "source": [
    "def compute_t_statistics_paired(lst_week, sclst_week):\n",
    "  n = len(lst_week)\n",
    "\n",
    "  diff_stat = np.array([l - sl for l, sl in zip(lst_week, sclst_week)]) # Computing Difference statistic here\n",
    "  diff_stat_mean = diff_stat.sum()/n*1.0\n",
    "\n",
    "  critical_value_t = 2.447                     # T (7, alpha/2)\n",
    "\n",
    "  # Computing sample standard deviation of difference data\n",
    "  sample_stddev = 0\n",
    "  for i in range(len(lst_week)):\n",
    "    sample_stddev += (diff_stat[i] - diff_stat_mean)*(diff_stat[i] - diff_stat_mean)/(n*1.0)\n",
    "  \n",
    "  std_error_2_sample = sqrt(sample_stddev)/sqrt(n)\n",
    "\n",
    "  # computing statistic here\n",
    "  t_2_statistic = abs((diff_stat_mean)/std_error_2_sample)\n",
    "\n",
    "  if t_2_statistic > critical_value_t:\n",
    "    print(\"Paired T-test rejects the hypothesis that means of 2 distributions are equal: statistic is %0.3f\" % (t_2_statistic))\n",
    "  else:\n",
    "    print(\"Paired T-Test accepts the hypothesis that means of 2 distributions are equal: statistic is %0.3f\" % (t_2_statistic))"
   ]
  },
  {
   "cell_type": "markdown",
   "metadata": {
    "colab_type": "text",
    "id": "cOI0T1beqTtu"
   },
   "source": [
    "### **Statistics for number of cases**\n",
    "\n"
   ]
  },
  {
   "cell_type": "code",
   "execution_count": 0,
   "metadata": {
    "colab": {},
    "colab_type": "code",
    "id": "lbpWY18YqfLR"
   },
   "outputs": [],
   "source": [
    "last_week_cases = new_cases_by_date[-7:]\n",
    "second_last_week_cases = new_cases_by_date[-14:-7]"
   ]
  },
  {
   "cell_type": "markdown",
   "metadata": {
    "colab_type": "text",
    "id": "AfL9Vc1Eqoez"
   },
   "source": [
    "**Walds-test**"
   ]
  },
  {
   "cell_type": "code",
   "execution_count": 144,
   "metadata": {
    "colab": {
     "base_uri": "https://localhost:8080/",
     "height": 0
    },
    "colab_type": "code",
    "id": "u2BK2Lqpqr1R",
    "outputId": "757bb123-c49a-477e-f33f-e555cde6f531"
   },
   "outputs": [
    {
     "name": "stdout",
     "output_type": "stream",
     "text": [
      "Walds one sample Test rejects the null hypothesis of last week mean equal to second last week mean: Statistic is 3.276\n",
      "Walds 2 population Test rejects the hypothesis that means of 2 distributions are equal: statistic is 2.109\n"
     ]
    }
   ],
   "source": [
    "compute_walds_statistics_one_sample(last_week_cases, second_last_week_cases)\n",
    "compute_walds_statistics_two_sample(last_week_cases, second_last_week_cases)"
   ]
  },
  {
   "cell_type": "markdown",
   "metadata": {
    "colab_type": "text",
    "id": "C-9Cjhbjqup3"
   },
   "source": [
    "**Z-test**"
   ]
  },
  {
   "cell_type": "code",
   "execution_count": 145,
   "metadata": {
    "colab": {
     "base_uri": "https://localhost:8080/",
     "height": 0
    },
    "colab_type": "code",
    "id": "mB8qAy39q09o",
    "outputId": "07440518-6984-4923-8cdf-f8c6709b0f71"
   },
   "outputs": [
    {
     "name": "stdout",
     "output_type": "stream",
     "text": [
      "Z Test accepts the hypothesis of last week mean equal to second last week mean: statistic is 0.059\n"
     ]
    }
   ],
   "source": [
    "compute_z_statistics(last_week_cases, second_last_week_cases, new_cases_by_date)"
   ]
  },
  {
   "cell_type": "markdown",
   "metadata": {
    "colab_type": "text",
    "id": "JisZUawdq10p"
   },
   "source": [
    "**T-tests**"
   ]
  },
  {
   "cell_type": "code",
   "execution_count": 146,
   "metadata": {
    "colab": {
     "base_uri": "https://localhost:8080/",
     "height": 0
    },
    "colab_type": "code",
    "id": "H625vXByq6YU",
    "outputId": "0259a946-e690-44e1-c1b4-0672c78c1b73"
   },
   "outputs": [
    {
     "name": "stdout",
     "output_type": "stream",
     "text": [
      "T Test rejects the hypothesis of last week mean equal to second last week mean: statistic is 3.302\n",
      "Unpaired T-test accepts the hypothesis that means of 2 distributions are equal: statistic is 0.638\n",
      "Paired T-Test accepts the hypothesis that means of 2 distributions are equal: statistic is 1.550\n"
     ]
    }
   ],
   "source": [
    "compute_t_statistics_one_sample(last_week_cases, second_last_week_cases)\n",
    "compute_t_statistics_unpaired(last_week_cases, second_last_week_cases)\n",
    "compute_t_statistics_paired(last_week_cases, second_last_week_cases)"
   ]
  },
  {
   "cell_type": "markdown",
   "metadata": {
    "colab_type": "text",
    "id": "QxXkKc81r9fs"
   },
   "source": [
    "### **Statistics for number of deaths**"
   ]
  },
  {
   "cell_type": "code",
   "execution_count": 0,
   "metadata": {
    "colab": {},
    "colab_type": "code",
    "id": "NvaKqiI7sEP5"
   },
   "outputs": [],
   "source": [
    "last_week_deaths = new_deaths_by_date[-7:]\n",
    "second_last_week_deaths = new_deaths_by_date[-14:-7]"
   ]
  },
  {
   "cell_type": "markdown",
   "metadata": {
    "colab_type": "text",
    "id": "dE-XtaJ-sI-i"
   },
   "source": [
    "**Walds-test**"
   ]
  },
  {
   "cell_type": "code",
   "execution_count": 148,
   "metadata": {
    "colab": {
     "base_uri": "https://localhost:8080/",
     "height": 0
    },
    "colab_type": "code",
    "id": "BCbmgAWfsHKq",
    "outputId": "d4ed80ff-f92b-4b80-e7b6-27c8267af700"
   },
   "outputs": [
    {
     "name": "stdout",
     "output_type": "stream",
     "text": [
      "Walds one sample Test rejects the null hypothesis of last week mean equal to second last week mean: Statistic is 3.276\n",
      "Walds 2 population Test rejects the hypothesis that means of 2 distributions are equal: statistic is 2.109\n"
     ]
    }
   ],
   "source": [
    "compute_walds_statistics_one_sample(last_week_cases, second_last_week_cases)\n",
    "compute_walds_statistics_two_sample(last_week_cases, second_last_week_cases)"
   ]
  },
  {
   "cell_type": "markdown",
   "metadata": {
    "colab_type": "text",
    "id": "TcZ0HwUisMh3"
   },
   "source": [
    "**Z-test**"
   ]
  },
  {
   "cell_type": "code",
   "execution_count": 149,
   "metadata": {
    "colab": {
     "base_uri": "https://localhost:8080/",
     "height": 0
    },
    "colab_type": "code",
    "id": "Ive10_d1sNYQ",
    "outputId": "54bf77b1-22e1-4802-a778-02d70af45276"
   },
   "outputs": [
    {
     "name": "stdout",
     "output_type": "stream",
     "text": [
      "Z Test accepts the hypothesis of last week mean equal to second last week mean: statistic is 0.059\n"
     ]
    }
   ],
   "source": [
    "compute_z_statistics(last_week_cases, second_last_week_cases, new_cases_by_date)"
   ]
  },
  {
   "cell_type": "markdown",
   "metadata": {
    "colab_type": "text",
    "id": "J1PGXw7GsOKD"
   },
   "source": [
    "**T-tests**"
   ]
  },
  {
   "cell_type": "code",
   "execution_count": 150,
   "metadata": {
    "colab": {
     "base_uri": "https://localhost:8080/",
     "height": 0
    },
    "colab_type": "code",
    "id": "xaSkQmc-sPFK",
    "outputId": "0445df8a-60ae-44cb-d04a-4eda0d70b2f7"
   },
   "outputs": [
    {
     "name": "stdout",
     "output_type": "stream",
     "text": [
      "T Test rejects the hypothesis of last week mean equal to second last week mean: statistic is 3.302\n",
      "Unpaired T-test accepts the hypothesis that means of 2 distributions are equal: statistic is 0.638\n",
      "Paired T-Test accepts the hypothesis that means of 2 distributions are equal: statistic is 1.550\n"
     ]
    }
   ],
   "source": [
    "compute_t_statistics_one_sample(last_week_cases, second_last_week_cases)\n",
    "compute_t_statistics_unpaired(last_week_cases, second_last_week_cases)\n",
    "compute_t_statistics_paired(last_week_cases, second_last_week_cases)"
   ]
  },
  {
   "cell_type": "markdown",
   "metadata": {
    "colab_type": "text",
    "id": "DsvRl3sosedw"
   },
   "source": [
    "### **Applicability Of Tests**\n",
    "\n",
    "**Wald's Test**\n",
    "*  In Wald's we need to have a Asymptomatically Normal estimator. Since N is fairly low, we cannot assume CLT applies in case of **sample mean** and hence this test is **not applicable.**\n",
    "* The above reasoning works well for 2 sample test as well, since we need both estimators to be Asymptomatically Normal. Hence this test is also **not applicable.**\n",
    "\n",
    "**Z-test**\n",
    "* In Z-test, we need to have true standard deviation and either the N is large or the X is normally distributed. Since neither of the second requirement is true, we say the test is **not applicable**.\n",
    "\n",
    "**T-test**\n",
    "* In one sample T-test, the requirement is that the data is normally distributed, since this is not the case and N is low as well. We say that the test is **not applicable**\n",
    "\n",
    "* In unpaired T-test, the required distributions should be independent and need to be normally distributed. In the current scenario, neither is the case so we say that the test is **not applicable**\n",
    "\n",
    "* In paired T-test, the difference distribution should be normally distributed but we cannot assume the same, hence we say that the test is **not applicable**\n"
   ]
  },
  {
   "cell_type": "markdown",
   "metadata": {
    "colab_type": "text",
    "id": "laYMBWPWcdmM"
   },
   "source": [
    "-------\n",
    "## **3.3 Equality of Distributions**\n",
    "**Time Period:**\n",
    "\n",
    "*Second last week:* 4/17/2020 - 4/23/2020\n",
    "\n",
    "*Last week:* 4/24/2020 - 4/30/2020\n",
    "\n",
    "$$X=[2^{nd}\\ Last\\ week\\ data]$$\n",
    "$$Y=[Last\\ week\\ data]$$\n",
    "\\\n",
    "$Null Hypothesis:$ $H_o$ $=$ $X$ and $Y$ have similar distributions.\n",
    "\n",
    "$Alternate:$ $H_1$ $=$ $X$ and $Y$ have different distributions.\n"
   ]
  },
  {
   "cell_type": "code",
   "execution_count": 0,
   "metadata": {
    "colab": {},
    "colab_type": "code",
    "id": "clrz8i7LgYBZ"
   },
   "outputs": [],
   "source": [
    "time_df['date'] = pd.to_datetime(time_df['date'])\n",
    "\n",
    "# Setting range for second last week\n",
    "second_last_week = (time_df['date'] >= '4/17/2020') & (time_df['date'] <= '4/23/2020')\n",
    "\n",
    "# Setting range for last week\n",
    "last_week = (time_df['date'] >= '4/24/2020') & (time_df['date'] <= '4/30/2020')"
   ]
  },
  {
   "cell_type": "markdown",
   "metadata": {
    "colab_type": "text",
    "id": "9C-CCTahgYnz"
   },
   "source": [
    "* **Permutation Test**"
   ]
  },
  {
   "cell_type": "code",
   "execution_count": 152,
   "metadata": {
    "colab": {
     "base_uri": "https://localhost:8080/",
     "height": 163
    },
    "colab_type": "code",
    "id": "G3DlMtj8ghqR",
    "outputId": "ca48eb22-7bc6-47ef-ca35-e63b236ba993"
   },
   "outputs": [
    {
     "name": "stdout",
     "output_type": "stream",
     "text": [
      "\n",
      "p_value  0.1349\n",
      "Null hypothesis is accepted.\n",
      "Cases Distributions are similar for daily_confirmed\n",
      "\n",
      "p_value  0.0577\n",
      "Null hypothesis is accepted.\n",
      "Cases Distributions are similar for daily_deceased\n"
     ]
    }
   ],
   "source": [
    "#Permutation test to compare daily cases\n",
    "import statistics\n",
    "import numpy as np\n",
    "import random\n",
    "\n",
    "def Permutation_test(column):\n",
    "    px = time_df.loc[second_last_week][column].to_numpy()\n",
    "    py = time_df.loc[last_week][column].to_numpy()\n",
    "    \n",
    "    #Getting Tobs value for the given data sets\n",
    "\n",
    "    tobs = abs(statistics.mean(px) - statistics.mean(py))\n",
    "    pz = np.concatenate((px, py))\n",
    "    \n",
    "    #Performing test for 20000 iterations\n",
    "    n = 20000\n",
    "    itr = 0\n",
    "    count = 0\n",
    "    while(itr < n):\n",
    "        random.shuffle(pz)\n",
    "\n",
    "        px = pz[:7]\n",
    "        py = pz[7:14]\n",
    "        ti = abs(statistics.mean(px) - statistics.mean(py))\n",
    "        if(ti > tobs):\n",
    "            count = count + 1\n",
    "        itr = itr + 1\n",
    "    \n",
    "    # Calculating p value for Permutation Test\n",
    "    pvalue = float(count) / float(n)\n",
    "    print(\"\\np_value \", pvalue)\n",
    "\n",
    "    if(pvalue < 0.05):\n",
    "        print('Null hypothesis is rejected.')\n",
    "        print(\"Cases Distributions are different for\", column)\n",
    "    else:\n",
    "        print('Null hypothesis is accepted.')\n",
    "        print(\"Cases Distributions are similar for\", column)\n",
    "\n",
    "# Performing permutation test for confirmed cases\n",
    "Permutation_test('daily_confirmed')\n",
    "# Performing permutation test for deceased cases\n",
    "Permutation_test('daily_deceased')\n"
   ]
  },
  {
   "cell_type": "markdown",
   "metadata": {
    "colab_type": "text",
    "id": "4o3639Bmgx8o"
   },
   "source": [
    "* **2-Sample K-S Test**"
   ]
  },
  {
   "cell_type": "code",
   "execution_count": 153,
   "metadata": {
    "colab": {
     "base_uri": "https://localhost:8080/",
     "height": 163
    },
    "colab_type": "code",
    "id": "MRd4dHcyg3P3",
    "outputId": "f7565f37-1369-4ec8-a49b-c52c50742279"
   },
   "outputs": [
    {
     "name": "stdout",
     "output_type": "stream",
     "text": [
      "\n",
      "Max Difference  0.42857142857142844\n",
      "Null hypothesis is rejected.\n",
      "Cases Distributions are different for daily_confirmed\n",
      "\n",
      "Max Difference  0.7142857142857142\n",
      "Null hypothesis is rejected.\n",
      "Cases Distributions are different for daily_deceased\n"
     ]
    }
   ],
   "source": [
    "#2-Sample K-S test\n",
    "\n",
    "def closest(numbers,target):\n",
    "    temp = numbers.copy()\n",
    "    temp.append(target)\n",
    "    temp.sort()\n",
    "    index = temp.index(target)\n",
    "    return index - 1\n",
    "\n",
    "def KS_2Sample(column):\n",
    "    # Taking second week and last week data for Covid\n",
    "    ksy = time_df.loc[second_last_week][column].tolist()\n",
    "    ksx = time_df.loc[last_week][column].tolist()\n",
    "\n",
    "    ksx.sort()\n",
    "    ksy.sort()\n",
    "    c = 0.05\n",
    "\n",
    "    n = len(ksx)\n",
    "    m = len(ksy)\n",
    "\n",
    "    Fx = []\n",
    "    Fy = []\n",
    "    Fx_bar = []\n",
    "    Fy_left = []\n",
    "    Fy_right = []\n",
    "    left_dif = []\n",
    "    right_dif = []\n",
    "\n",
    "    step_x = 1 / n\n",
    "    step_y = 1 / m\n",
    "\n",
    "    inc = 0\n",
    "    for i in range(n-1):\n",
    "        inc += step_x\n",
    "        Fx.append(inc)\n",
    "    Fx.append(1)\n",
    "\n",
    "    #Calculating Step Function\n",
    "    inc = 0\n",
    "    for j in range(m-1):\n",
    "        inc += step_y\n",
    "        Fy.append(inc)\n",
    "    Fy.append(1)\n",
    "\n",
    "    # Iterating over all the data points to calculate difference\n",
    "    for k in range(n):\n",
    "        x = ksx[k]\n",
    "        ind = closest(ksy, x)\n",
    "        if ind < 0:\n",
    "            bar = 0\n",
    "        else:\n",
    "            bar = Fy[ind]\n",
    "        Fx_bar.append(bar)\n",
    "\n",
    "        if k==0:\n",
    "            left=0\n",
    "        else:\n",
    "            left=Fx[k-1]\n",
    "        Fy_left.append(left)\n",
    "\n",
    "        right=Fx[k]\n",
    "        Fy_right.append(right)\n",
    "\n",
    "        left_dif.append(abs(bar - left))\n",
    "        right_dif.append(abs(bar - right))\n",
    "\n",
    "    #Arranging all data columns in a table\n",
    "    data={\n",
    "        'x':ksx,\n",
    "        'Fx(x)_cap':Fx_bar,\n",
    "        'Fy(x)_left':Fy_left,\n",
    "        'Fy(x)_right':Fy_right,\n",
    "        'Left_difference':left_dif,\n",
    "        'Right_difference':right_dif\n",
    "    }\n",
    "    table = pd.DataFrame(data)\n",
    "\n",
    "    #Calculating Maximum difference between 2 distributions\n",
    "    max_diff = max(left_dif + right_dif)\n",
    "    print(\"\\nMax Difference \", max_diff)\n",
    "\n",
    "    # Comparing maximum difference with critical value\n",
    "    if(max_diff > c):\n",
    "        print('Null hypothesis is rejected.')    \n",
    "        print(\"Cases Distributions are different for\", column)\n",
    "    else:\n",
    "        print('Null hypothesis is accepted.')\n",
    "        print(\"Cases Distributions are similar for\", column)\n",
    "\n",
    "KS_2Sample('daily_confirmed')\n",
    "KS_2Sample('daily_deceased')\n"
   ]
  },
  {
   "cell_type": "markdown",
   "metadata": {
    "colab_type": "text",
    "id": "P4qulWN-g9oE"
   },
   "source": [
    "* **1-Sample K-S test Using Geometric**"
   ]
  },
  {
   "cell_type": "code",
   "execution_count": 154,
   "metadata": {
    "colab": {
     "base_uri": "https://localhost:8080/",
     "height": 163
    },
    "colab_type": "code",
    "id": "AZPaztTqhFFu",
    "outputId": "20254d94-ac6b-427e-aac6-a24bd0b2931c"
   },
   "outputs": [
    {
     "name": "stdout",
     "output_type": "stream",
     "text": [
      "\n",
      "Max Difference  0.3176390148108009\n",
      "Null hypothesis is rejected.\n",
      "Last week's data doesn't have distribution with obtained MME for daily_confirmed\n",
      "\n",
      "Max Difference  0.35064935064935066\n",
      "Null hypothesis is rejected.\n",
      "Last week's data doesn't have distribution with obtained MME for daily_deceased\n"
     ]
    }
   ],
   "source": [
    "# 1-Sample K-S test Using Geometric for cases\n",
    "\n",
    "# Geometric CDF Function\n",
    "def geometric(n, gx):\n",
    "    p = float(7.0) / float(np.sum(gx))\n",
    "    return 1 - ((1 - p) ** n)\n",
    "\n",
    "def KS_Geometric(column):\n",
    "    # Taking second week and last week data for Covid\n",
    "    gx = time_df.loc[second_last_week][column].to_numpy()\n",
    "    gy = time_df.loc[last_week][column].to_numpy()\n",
    "\n",
    "    gy.sort()\n",
    "    c = 0.05\n",
    "    m = len(gy)\n",
    "\n",
    "    Fy = []\n",
    "    Fy_bar = []\n",
    "    Fx_left = []\n",
    "    Fx_right = []\n",
    "    left_dif = []\n",
    "    right_dif = []\n",
    "\n",
    "    step_y = 1 / m\n",
    "\n",
    "    #Calculating step function\n",
    "    inc = 0\n",
    "    for j in range(m - 1):\n",
    "        inc += step_y\n",
    "        Fy.append(inc)\n",
    "    Fy.append(1)\n",
    "\n",
    "    # Iterating over all the data points to calculate maximum difference\n",
    "    for k in range(m):\n",
    "        bar = geometric(gy[k], gx)\n",
    "        Fy_bar.append(bar)\n",
    "\n",
    "        if k == 0:\n",
    "            left = 0\n",
    "        else:\n",
    "            left = Fy[k-1]\n",
    "        Fx_left.append(left)\n",
    "\n",
    "        right = Fy[k]\n",
    "        Fx_right.append(right)\n",
    "\n",
    "        left_dif.append(abs(bar - left))\n",
    "        right_dif.append(abs(bar - right))\n",
    "\n",
    "    # Arranging all data columns in a table\n",
    "    data={\n",
    "        'y':gy,\n",
    "        'Fy(y)_cap':Fy_bar,\n",
    "        'Fx(y)_left':Fx_left,\n",
    "        'Fx(y)_right':Fx_right,\n",
    "        'Left_difference':left_dif,\n",
    "        'Right_difference':right_dif\n",
    "    }\n",
    "    table = pd.DataFrame(data)\n",
    "\n",
    "    # Calculating Maximum difference between 2 distributions\n",
    "    max_diff = max(left_dif + right_dif)\n",
    "    print(\"\\nMax Difference \", max_diff)\n",
    "\n",
    "    # Comparing maximum difference with critical value\n",
    "    if(max_diff > c):\n",
    "        print('Null hypothesis is rejected.')    \n",
    "        print(\"Last week's data doesn't have distribution with obtained MME for\", column)\n",
    "    else:\n",
    "        print('Null hypothesis is accepted.')\n",
    "        print(\"Last week's data has distribution with obtained MME for\", column)\n",
    "\n",
    "KS_Geometric('daily_confirmed')\n",
    "KS_Geometric('daily_deceased')\n"
   ]
  },
  {
   "cell_type": "markdown",
   "metadata": {
    "colab_type": "text",
    "id": "8pZEQ1C6htWW"
   },
   "source": [
    "* **1-Sample K-S test Using Binomial**"
   ]
  },
  {
   "cell_type": "code",
   "execution_count": 155,
   "metadata": {
    "colab": {
     "base_uri": "https://localhost:8080/",
     "height": 219
    },
    "colab_type": "code",
    "id": "v79xeKUwhwvD",
    "outputId": "9101faa9-0fbc-45ee-e536-42b195306069"
   },
   "outputs": [
    {
     "name": "stdout",
     "output_type": "stream",
     "text": [
      "\n",
      "Max Difference  1.0\n",
      "Null hypothesis is rejected.\n",
      "Last week's data doesn't have distribution with obtained MME for daily_confirmed\n",
      "\n",
      "Max Difference  0.7142857142857143\n",
      "Null hypothesis is rejected.\n",
      "Last week's data doesn't have distribution with obtained MME for daily_deceased\n"
     ]
    },
    {
     "name": "stderr",
     "output_type": "stream",
     "text": [
      "/usr/local/lib/python3.6/dist-packages/scipy/stats/_discrete_distns.py:62: RuntimeWarning: floating point number truncated to an integer\n",
      "  vals = special.bdtr(k, n, p)\n"
     ]
    }
   ],
   "source": [
    "#1-Sample K-S test Using Binomial\n",
    "\n",
    "from scipy.stats import binom\n",
    "\n",
    "def KS_Binomial(column):\n",
    "    # Taking second week and last week data for Covid\n",
    "    bx = time_df.loc[second_last_week][column].to_numpy()\n",
    "    by = time_df.loc[last_week][column].to_numpy()\n",
    "\n",
    "    # Estimating Binomial n and p parameters\n",
    "    bsum = np.sum(bx)\n",
    "    bN = len(bx)\n",
    "    bnp = float(bsum) / float(bN)\n",
    "    bse = 0\n",
    "\n",
    "    itr = 0\n",
    "    while(itr < len(bx)):\n",
    "        bse = bse + ((bx[itr] - bnp) ** 2)\n",
    "        itr = itr + 1\n",
    "\n",
    "    bse = float(bse) / float(bsum)\n",
    "    bp = 1 - bse\n",
    "    bn = float(bnp) / float(bp)\n",
    "\n",
    "    by.sort()\n",
    "    c = 0.05\n",
    "    m = len(by)\n",
    "\n",
    "    Fy = []\n",
    "    Fy_bar = []\n",
    "    Fx_left = []\n",
    "    Fx_right = []\n",
    "    left_dif = []\n",
    "    right_dif = []\n",
    "\n",
    "    step_y = 1 / m\n",
    "\n",
    "    #Calculating step function\n",
    "    inc = 0\n",
    "    for j in range(m - 1):\n",
    "        inc += step_y\n",
    "        Fy.append(inc)\n",
    "    Fy.append(1)\n",
    "\n",
    "    # Iterating over all the data points to calculate difference\n",
    "    for k in range(m):\n",
    "\n",
    "        bar = binom.cdf(by[k], bn, bp)\n",
    "        Fy_bar.append(bar)\n",
    "\n",
    "        if k == 0:\n",
    "            left = 0\n",
    "        else:\n",
    "            left = Fy[k-1]\n",
    "        Fx_left.append(left)\n",
    "\n",
    "        right = Fy[k]\n",
    "        Fx_right.append(right)\n",
    "\n",
    "        left_dif.append(abs(bar - left))\n",
    "        right_dif.append(abs(bar - right))\n",
    "\n",
    "    #Arranging all data columns in a table\n",
    "    data={\n",
    "        'y':by,\n",
    "        'Fy(y)_cap':Fy_bar,\n",
    "        'Fx(y)_left':Fx_left,\n",
    "        'Fx(y)_right':Fx_right,\n",
    "        'Left_difference':left_dif,\n",
    "        'Right_difference':right_dif\n",
    "    }\n",
    "    table = pd.DataFrame(data)\n",
    "\n",
    "    # Calculating Maximum difference between 2 distributions\n",
    "    max_diff = max(left_dif + right_dif)\n",
    "    print(\"\\nMax Difference \", max_diff)\n",
    "\n",
    "    # Comparing maximum difference with critical value\n",
    "    if(max_diff > c):\n",
    "        print('Null hypothesis is rejected.')    \n",
    "        print(\"Last week's data doesn't have distribution with obtained MME for\", column)\n",
    "    else:\n",
    "        print('Null hypothesis is accepted.')\n",
    "        print(\"Last week's data has distribution with obtained MME for\", column)\n",
    "\n",
    "KS_Binomial('daily_confirmed')\n",
    "KS_Binomial('daily_deceased')\n"
   ]
  },
  {
   "cell_type": "markdown",
   "metadata": {
    "colab_type": "text",
    "id": "GNN_qLKFiBNp"
   },
   "source": [
    "* **1-Sample K-S test Using Poisson Distribution**"
   ]
  },
  {
   "cell_type": "code",
   "execution_count": 156,
   "metadata": {
    "colab": {
     "base_uri": "https://localhost:8080/",
     "height": 163
    },
    "colab_type": "code",
    "id": "ZrzrDcHFiI4V",
    "outputId": "9c17544d-29dd-4491-891b-32915367ad30"
   },
   "outputs": [
    {
     "name": "stdout",
     "output_type": "stream",
     "text": [
      "\n",
      "Max Difference 0.58012057451999\n",
      "Null hypothesis is rejected.\n",
      "Last week's data doesn't have distribution with obtained MME for daily_confirmed\n",
      "\n",
      "Max Difference 0.2484953383692593\n",
      "Null hypothesis is rejected.\n",
      "Last week's data doesn't have distribution with obtained MME for daily_deceased\n"
     ]
    }
   ],
   "source": [
    "from scipy.stats import poisson\n",
    "\n",
    "def KS_Poisson(column):\n",
    "    # Taking second week and last week data for Covid\n",
    "    pox = time_df.loc[second_last_week][column].to_numpy()\n",
    "    poy = time_df.loc[last_week][column].to_numpy()\n",
    "\n",
    "    # Estimating Poisson parameter lambda using MME\n",
    "    lmbda = float(np.sum(pox)) / float(len(pox))\n",
    "    poy.sort()\n",
    "\n",
    "    c = 0.05\n",
    "    m = len(poy)\n",
    "\n",
    "    Fy = []\n",
    "    Fy_bar = []\n",
    "    Fx_left = []\n",
    "    Fx_right = []\n",
    "    left_dif = []\n",
    "    right_dif = []\n",
    "\n",
    "    # Calculating step function\n",
    "    step_y = 1 / m\n",
    "    inc = 0\n",
    "    for j in range(m - 1):\n",
    "        inc += step_y\n",
    "        Fy.append(inc)\n",
    "    Fy.append(1)\n",
    "\n",
    "    # Iterating over all the data points to calculate difference\n",
    "    for k in range(m):\n",
    "\n",
    "        bar = poisson.cdf(poy[k], lmbda)\n",
    "        Fy_bar.append(bar)\n",
    "\n",
    "        if k == 0:\n",
    "            left = 0\n",
    "        else:\n",
    "            left = Fy[k-1]\n",
    "        Fx_left.append(left)\n",
    "\n",
    "        right = Fy[k]\n",
    "        Fx_right.append(right)\n",
    "\n",
    "        left_dif.append(abs(bar - left))\n",
    "        right_dif.append(abs(bar - right))\n",
    "\n",
    "    # poy is last week's data\n",
    "    # Arranging all data columns in a table\n",
    "    data={\n",
    "        'y':poy,\n",
    "        'Fy(y)_cap':Fy_bar,\n",
    "        'Fx(y)_left':Fx_left,\n",
    "        'Fx(y)_right':Fx_right,\n",
    "        'Left_difference':left_dif,\n",
    "        'Right_difference':right_dif\n",
    "    }\n",
    "    table = pd.DataFrame(data)\n",
    "\n",
    "    # Calculating Maximum difference between 2 distributions\n",
    "    max_diff = max(left_dif + right_dif)\n",
    "    print(\"\\nMax Difference\", max_diff)\n",
    "\n",
    "    # Comparing maximum difference with critical value\n",
    "    if(max_diff > c):\n",
    "        print('Null hypothesis is rejected.')    \n",
    "        print(\"Last week's data doesn't have distribution with obtained MME for\", column)\n",
    "    else:\n",
    "        print('Null hypothesis is accepted.')\n",
    "        print(\"Last week's data has distribution with obtained MME for\", column)\n",
    "\n",
    "KS_Poisson('daily_confirmed')\n",
    "KS_Poisson('daily_deceased')"
   ]
  },
  {
   "cell_type": "markdown",
   "metadata": {
    "colab_type": "text",
    "id": "VJINy1C-MDHr"
   },
   "source": [
    "---\n",
    "## **3.4 Conclusion Pearson Coorelation**\n",
    "\n",
    "**Duration:** *02-18-2020 to 03-22-2020*\n",
    "\n",
    "* We have selected the above one month data for calculating Pearson correaltions with different columns of 'X' dataset.\n"
   ]
  },
  {
   "cell_type": "markdown",
   "metadata": {
    "colab_type": "text",
    "id": "AnM8elQZOeNM"
   },
   "source": [
    "* **Best** Pearson Correlation **0.510844** is coming up with **avg_relative_humidity for Daegu province and daily cases of Daegu province**\n",
    "\n",
    "* Thus this is the **Positive Correlation with daily Cases**\n",
    "\n",
    "* Below are the various experiments done "
   ]
  },
  {
   "cell_type": "code",
   "execution_count": 0,
   "metadata": {
    "colab": {},
    "colab_type": "code",
    "id": "8AGtfFTePJmp"
   },
   "outputs": [],
   "source": [
    "def get_mean(col):\n",
    "  return np.mean(col)\n",
    "\n",
    "def get_pearson_coeff(col1, col2):\n",
    "\n",
    "  x_mean = get_mean(col1)\n",
    "  y_mean = get_mean(col2)\n",
    "\n",
    "  x_ = [x-x_mean for x in col1]\n",
    "  y_ = [y-y_mean for y in col2]\n",
    "  x_2 = [x**2 for x in x_]\n",
    "  y_2 = [y**2 for y in y_]\n",
    "\n",
    "  multi = [x*y for x,y in zip(x_,y_)]\n",
    "  cov = np.sum(multi)\n",
    "\n",
    "  pearson = cov/(np.sum(x_2)**0.5 * np.sum(y_2)**0.5)\n",
    "  # print(\"pearson - \",pearson)\n",
    "  return pearson\n"
   ]
  },
  {
   "cell_type": "code",
   "execution_count": 0,
   "metadata": {
    "colab": {},
    "colab_type": "code",
    "id": "KT6LZJLtRCsH"
   },
   "outputs": [],
   "source": [
    "search = trend_df.copy()\n",
    "timedf = time_df.copy()\n",
    "weather = weather_df.copy()\n",
    "timeprovince =  timeprovince_df.copy()"
   ]
  },
  {
   "cell_type": "code",
   "execution_count": 0,
   "metadata": {
    "colab": {},
    "colab_type": "code",
    "id": "wDyDlYqKPNTu"
   },
   "outputs": [],
   "source": [
    "search['date'] = search ['date'].astype('datetime64[ns]') \n",
    "timedf['date'] = timedf['date'].astype('datetime64[ns]') \n",
    "weather['date'] = weather['date'].astype('datetime64[ns]')\n",
    "timeprovince['date'] = timeprovince['date'].astype('datetime64[ns]')"
   ]
  },
  {
   "cell_type": "code",
   "execution_count": 0,
   "metadata": {
    "colab": {},
    "colab_type": "code",
    "id": "d3_-2VA4PNOj"
   },
   "outputs": [],
   "source": [
    "timedf['daily_deaths'] = timedf.deceased.diff()\n",
    "timeprovince['daily_deaths'] = timeprovince.deceased.diff()\n",
    "\n",
    "timedf['daily_cases'] = timedf.confirmed.diff()\n",
    "timeprovince['daily_cases'] = timeprovince.confirmed.diff()"
   ]
  },
  {
   "cell_type": "code",
   "execution_count": 0,
   "metadata": {
    "colab": {},
    "colab_type": "code",
    "id": "0lglyw_EPNIO"
   },
   "outputs": [],
   "source": [
    "start_date = '2020-02-18'\n",
    "end_date = '2020-03-22'\n",
    "\n",
    "search_filter = search[search['date'].between(start_date, end_date, inclusive=True)]\n",
    "timedf_filter = timedf[timedf['date'].between(start_date, end_date, inclusive=True)]\n",
    "weather_filter = weather[weather['date'].between(start_date, end_date, inclusive=True)]\n",
    "timeprovince_filter = timeprovince[timeprovince['date'].between(start_date, end_date, inclusive=True)]"
   ]
  },
  {
   "cell_type": "markdown",
   "metadata": {
    "colab_type": "text",
    "id": "oXfhYzUcTmzG"
   },
   "source": [
    "### **With Search Trend Data**"
   ]
  },
  {
   "cell_type": "code",
   "execution_count": 162,
   "metadata": {
    "colab": {
     "base_uri": "https://localhost:8080/",
     "height": 126
    },
    "colab_type": "code",
    "id": "XPzlF2CNPNDD",
    "outputId": "66854fb0-9fc1-4ae1-af8d-b72601f63f0e"
   },
   "outputs": [
    {
     "name": "stdout",
     "output_type": "stream",
     "text": [
      "Pearson Corr with No.of daily cases\n",
      "\n",
      "For cold -0.029127692364564604\n",
      "For flu -0.010728486720756329\n",
      "For pneumonia -0.21093568095346796\n",
      "For coronavirus 0.3577801254380286\n"
     ]
    }
   ],
   "source": [
    "print(\"Pearson Corr with No.of daily cases\")\n",
    "print()\n",
    "col1 = list(timedf_filter['daily_cases'])\n",
    "\n",
    "for col in ['cold','flu','pneumonia','coronavirus']:\n",
    "  col2 = list(search_filter[col])\n",
    "  \n",
    "  print (\"For\",col,end=' ')\n",
    "  print(get_pearson_coeff(col1,col2))\n",
    "  # print(pearsonr(col1,col2))\n",
    "  # print ()"
   ]
  },
  {
   "cell_type": "code",
   "execution_count": 163,
   "metadata": {
    "colab": {
     "base_uri": "https://localhost:8080/",
     "height": 126
    },
    "colab_type": "code",
    "id": "uoCIFdrUT8NO",
    "outputId": "41fb1f6c-c8af-4dc4-93b0-c47d512584e5"
   },
   "outputs": [
    {
     "name": "stdout",
     "output_type": "stream",
     "text": [
      "Pearson with No. of death\n",
      "\n",
      "For cold -0.1721711646420546\n",
      "For flu -0.22865468529332983\n",
      "For pneumonia -0.3502633488543312\n",
      "For coronavirus -0.34909930213807167\n"
     ]
    }
   ],
   "source": [
    "print(\"Pearson with No. of death\")\n",
    "print()\n",
    "col1 = list(timedf_filter['daily_deaths'])\n",
    "\n",
    "for col in ['cold','flu','pneumonia','coronavirus']:\n",
    "  col2 = list(search_filter[col])\n",
    "  \n",
    "  print (\"For\",col,end=' ')\n",
    "  print(get_pearson_coeff(col1,col2))"
   ]
  },
  {
   "cell_type": "markdown",
   "metadata": {
    "colab_type": "text",
    "id": "w_LMouV1UJfm"
   },
   "source": [
    "### **Country Covid data with Province-wise Weather data** \n",
    "\n",
    "We are selecting top 4 most populated cities in Korea - Seoul, Busan, Incheon, Daegu"
   ]
  },
  {
   "cell_type": "code",
   "execution_count": 0,
   "metadata": {
    "colab": {},
    "colab_type": "code",
    "id": "SZsk0cKbT8A2"
   },
   "outputs": [],
   "source": [
    "cities = ['Seoul','Busan','Incheon','Daegu']"
   ]
  },
  {
   "cell_type": "code",
   "execution_count": 165,
   "metadata": {
    "colab": {
     "base_uri": "https://localhost:8080/",
     "height": 617
    },
    "colab_type": "code",
    "id": "6a9-9F4LT78_",
    "outputId": "fcd56f0b-52eb-4978-a868-3675ee554815"
   },
   "outputs": [
    {
     "name": "stdout",
     "output_type": "stream",
     "text": [
      "Pearson with No. of daily cases\n",
      "==  Seoul  ==\n",
      "For avg_temp -0.004000857322426408\n",
      "For min_temp 0.12917233388048407\n",
      "For max_temp -0.03629097598584473\n",
      "For precipitation -0.11301588822887873\n",
      "For max_wind_speed -0.2540196322507172\n",
      "For most_wind_direction -0.3531206117971447\n",
      "For avg_relative_humidity 0.24938237317801898\n",
      "==  Busan  ==\n",
      "For avg_temp -0.09832232478086267\n",
      "For min_temp 0.08797891783646264\n",
      "For max_temp -0.2537808172713095\n",
      "For precipitation -0.0823878766854495\n",
      "For max_wind_speed -0.37670385928472766\n",
      "For most_wind_direction -0.4865398892301188\n",
      "For avg_relative_humidity 0.3875636022031007\n",
      "==  Incheon  ==\n",
      "For avg_temp -0.09164713114951703\n",
      "For min_temp 0.0346940053419982\n",
      "For max_temp -0.10306738305430253\n",
      "For precipitation -0.10299638386430596\n",
      "For max_wind_speed -0.29547636978488667\n",
      "For most_wind_direction -0.06623866228606823\n",
      "For avg_relative_humidity 0.2925615961464722\n",
      "==  Daegu  ==\n",
      "For avg_temp -0.21578276987610492\n",
      "For min_temp 0.03943522657935382\n",
      "For max_temp -0.3067835532161012\n",
      "For precipitation -0.1093666022875481\n",
      "For max_wind_speed -0.28354236173162223\n",
      "For most_wind_direction -0.3417102913708423\n",
      "For avg_relative_humidity 0.5075698331126655\n"
     ]
    }
   ],
   "source": [
    "print(\"Pearson with No. of daily cases\")\n",
    "\n",
    "col1 = list(timedf_filter['daily_cases'])\n",
    "\n",
    "for city in cities:\n",
    "  city_filter = weather_filter[weather_filter['province'] == city ]\n",
    "  print (\"== \",city,\" ==\")\n",
    "  for col in ['avg_temp', 'min_temp', 'max_temp','precipitation',\n",
    "              'max_wind_speed', 'most_wind_direction','avg_relative_humidity']:\n",
    "    \n",
    "    col2 = list(city_filter[col])\n",
    "    print (\"For\",col,end=' ')\n",
    "    print(get_pearson_coeff(col1,col2))\n",
    "    # print ()"
   ]
  },
  {
   "cell_type": "code",
   "execution_count": 166,
   "metadata": {
    "colab": {
     "base_uri": "https://localhost:8080/",
     "height": 617
    },
    "colab_type": "code",
    "id": "4rMqt1naT76s",
    "outputId": "22df019f-7fcc-49ee-abe2-f5e2bb6240c1"
   },
   "outputs": [
    {
     "name": "stdout",
     "output_type": "stream",
     "text": [
      "Pearson with No. of daily deaths\n",
      "==  Seoul  ==\n",
      "For avg_temp 0.2947062025252759\n",
      "For min_temp 0.2418782406493825\n",
      "For max_temp 0.32187673181853005\n",
      "For precipitation -0.05748197329174439\n",
      "For max_wind_speed 0.227810502098462\n",
      "For most_wind_direction 0.09866741953385502\n",
      "For avg_relative_humidity -0.10634500764218102\n",
      "==  Busan  ==\n",
      "For avg_temp 0.31968781762610476\n",
      "For min_temp 0.267102793177001\n",
      "For max_temp 0.34267053156175226\n",
      "For precipitation -0.00782697321517888\n",
      "For max_wind_speed 0.19449297962977605\n",
      "For most_wind_direction 0.018729754135928135\n",
      "For avg_relative_humidity -0.04299313849874737\n",
      "==  Incheon  ==\n",
      "For avg_temp 0.29744325370644\n",
      "For min_temp 0.3163493742580892\n",
      "For max_temp 0.30945181867079347\n",
      "For precipitation -0.04361328790280841\n",
      "For max_wind_speed 0.053665286497207684\n",
      "For most_wind_direction 0.010604059769124988\n",
      "For avg_relative_humidity -0.03576269171986076\n",
      "==  Daegu  ==\n",
      "For avg_temp 0.3043541642737181\n",
      "For min_temp 0.10648645078934865\n",
      "For max_temp 0.3910543614032335\n",
      "For precipitation 0.03557255820911626\n",
      "For max_wind_speed 0.14948432758509783\n",
      "For most_wind_direction 0.07573007596090166\n",
      "For avg_relative_humidity -0.10163405867196261\n"
     ]
    }
   ],
   "source": [
    "print(\"Pearson with No. of daily deaths\")\n",
    "col1 = list(timedf_filter['daily_deaths'])\n",
    "\n",
    "for city in cities:\n",
    "  city_filter = weather_filter[weather_filter['province'] == city ]\n",
    "  print (\"== \",city,\" ==\")\n",
    "  for col in ['avg_temp', 'min_temp', 'max_temp','precipitation',\n",
    "              'max_wind_speed', 'most_wind_direction','avg_relative_humidity']:\n",
    "    \n",
    "    col2 = list(city_filter[col])\n",
    "    print (\"For\",col,end=' ')\n",
    "    print(get_pearson_coeff(col1,col2))\n",
    "    # print ()"
   ]
  },
  {
   "cell_type": "markdown",
   "metadata": {
    "colab_type": "text",
    "id": "1ZmJMa85VmuM"
   },
   "source": [
    "### **Province Covid data With Province-wise weather data**"
   ]
  },
  {
   "cell_type": "code",
   "execution_count": 0,
   "metadata": {
    "colab": {},
    "colab_type": "code",
    "id": "vyne7eHfV1AH"
   },
   "outputs": [],
   "source": [
    "# /timeprovince_filter"
   ]
  },
  {
   "cell_type": "code",
   "execution_count": 168,
   "metadata": {
    "colab": {
     "base_uri": "https://localhost:8080/",
     "height": 617
    },
    "colab_type": "code",
    "id": "Sa21OJG8VvW5",
    "outputId": "91ed7fa0-4324-439e-8be6-b68dcd164b5f"
   },
   "outputs": [
    {
     "name": "stdout",
     "output_type": "stream",
     "text": [
      "Pearson with No. of daily cases\n",
      "==  Seoul  ==\n",
      "For avg_temp 0.228465913060995\n",
      "For min_temp 0.2413969262677684\n",
      "For max_temp 0.19572339410929962\n",
      "For precipitation -0.06962409388090238\n",
      "For max_wind_speed 0.19825403879345438\n",
      "For most_wind_direction 0.20429817964483557\n",
      "For avg_relative_humidity -0.1608520110566423\n",
      "==  Busan  ==\n",
      "For avg_temp -0.00881132617948827\n",
      "For min_temp 0.10241478206341373\n",
      "For max_temp -0.09589567144270403\n",
      "For precipitation 0.1491926045153371\n",
      "For max_wind_speed -0.2581497092102614\n",
      "For most_wind_direction -0.25718509386272503\n",
      "For avg_relative_humidity 0.28065820890377663\n",
      "==  Incheon  ==\n",
      "For avg_temp 0.04185273576918318\n",
      "For min_temp 0.13293297461227785\n",
      "For max_temp -0.040185729000449616\n",
      "For precipitation -0.044194746145476076\n",
      "For max_wind_speed 0.17030237291947942\n",
      "For most_wind_direction 0.23787214818283967\n",
      "For avg_relative_humidity -0.10668917094549206\n",
      "==  Daegu  ==\n",
      "For avg_temp -0.24035358825742376\n",
      "For min_temp 0.007819679683103502\n",
      "For max_temp -0.320786147079113\n",
      "For precipitation -0.12919938451430465\n",
      "For max_wind_speed -0.3057791326882729\n",
      "For most_wind_direction -0.34965141153640805\n",
      "For avg_relative_humidity 0.5108447851471636\n"
     ]
    }
   ],
   "source": [
    "print(\"Pearson with No. of daily cases\")\n",
    "\n",
    "for city in cities:\n",
    "  city_filter = weather_filter[weather_filter['province'] == city ]\n",
    "  city_pop = timeprovince_filter[timeprovince_filter['province'] == city]\n",
    "  city_pop['daily_cases'] = city_pop.confirmed.diff()\n",
    "  city_pop.fillna(0, inplace=True)\n",
    "  col1 = list(city_pop['daily_cases'])\n",
    "  print (\"== \",city,\" ==\")\n",
    "  for col in ['avg_temp', 'min_temp', 'max_temp','precipitation',\n",
    "              'max_wind_speed', 'most_wind_direction','avg_relative_humidity']:\n",
    "    \n",
    "    col2 = list(city_filter[col])\n",
    "    print (\"For\",col,end=' ')\n",
    "    print(get_pearson_coeff(col1,col2))\n",
    "    # print ()"
   ]
  },
  {
   "cell_type": "markdown",
   "metadata": {
    "colab_type": "text",
    "id": "wQhZxC4PThfk"
   },
   "source": [
    "* Seoul and Incheon do not have deaths thus calculating pearson with remaining provincies."
   ]
  },
  {
   "cell_type": "code",
   "execution_count": 169,
   "metadata": {
    "colab": {
     "base_uri": "https://localhost:8080/",
     "height": 326
    },
    "colab_type": "code",
    "id": "KxClYbVWVvRF",
    "outputId": "6f7ed34b-9b7e-41c6-ab6b-5b2e312dfae1"
   },
   "outputs": [
    {
     "name": "stdout",
     "output_type": "stream",
     "text": [
      "Pearson with No. of daily deaths\n",
      "==  Busan  ==\n",
      "For avg_temp -0.17255415497391996\n",
      "For min_temp -0.22067111327719616\n",
      "For max_temp -0.14812537777248855\n",
      "For precipitation -0.04683936472496181\n",
      "For max_wind_speed 0.03376128103722914\n",
      "For most_wind_direction 0.24114529187923403\n",
      "For avg_relative_humidity -0.12316755812626819\n",
      "==  Daegu  ==\n",
      "For avg_temp 0.2992399244041127\n",
      "For min_temp 0.2803724582579444\n",
      "For max_temp 0.2881410108547949\n",
      "For precipitation 0.13113061381328356\n",
      "For max_wind_speed 0.29635293790214134\n",
      "For most_wind_direction 0.015199534439310356\n",
      "For avg_relative_humidity 0.04554388026991247\n"
     ]
    }
   ],
   "source": [
    "print(\"Pearson with No. of daily deaths\")\n",
    "cities2 = ['Busan','Daegu']\n",
    "for city in cities2:\n",
    "  city_filter = weather_filter[weather_filter['province'] == city ]\n",
    "  city_pop = timeprovince_filter[timeprovince_filter['province'] == city]\n",
    "  city_pop['daily_deaths'] = city_pop.deceased.diff()\n",
    "  city_pop.fillna(0, inplace=True)\n",
    "  col1 = list(city_pop['daily_deaths'])\n",
    "  print (\"== \",city,\" ==\")\n",
    "  for col in ['avg_temp', 'min_temp', 'max_temp','precipitation',\n",
    "              'max_wind_speed', 'most_wind_direction','avg_relative_humidity']:\n",
    "    \n",
    "    col2 = list(city_filter[col])\n",
    "    print (\"For\",col,end=' ')\n",
    "    # print(pearsonr(col1,col2))\n",
    "    print(get_pearson_coeff(col1,col2))\n",
    "    # print ()"
   ]
  },
  {
   "cell_type": "markdown",
   "metadata": {
    "colab_type": "text",
    "id": "gPoa82phda_V"
   },
   "source": [
    "---\n",
    "## **3.5 Conclusion Bayesian Inference**\n",
    "\n",
    "**Duration:** *02-20-2020 to 03-19-2020*\n",
    "\n",
    "* Since First death is reported on 20th Feb."
   ]
  },
  {
   "cell_type": "markdown",
   "metadata": {
    "colab_type": "text",
    "id": "wcf-IHvWdm8Y"
   },
   "source": [
    "$$ Posterior\t\\propto  Likelihood \\times prior $$ \n",
    "$$ Posterior \\propto  \\prod_{i=1}^{n} e^{- \\lambda } \\cdot \\frac{ \\lambda^{X_i} }{X_i!} \\times \n",
    "\\frac{e^{- \\lambda/ \\beta}}{\\beta} $$\n",
    "\n",
    "$$ Posterior \\propto  e^{-n \\cdot \\lambda } \\cdot \\frac{ \\lambda^{\\sum_{i=1}^{n} X_{i}} }{\\prod_{i=1}^{n} X_i!} \\times \n",
    "\\frac{e^{- \\lambda/ \\beta}}{\\beta} $$\n",
    "\n",
    "$$ Posterior \\propto  e^{-(n \\cdot \\lambda + - \\lambda/ \\beta) } \\cdot { \\lambda^{\\sum_{i=1}^{n} X_{i}} } \\times C $$\n",
    "\n",
    "Equating this to  $$ Gamma( \\alpha, v)  = \\frac{v^{\\alpha} \\cdot \\lambda^{\\alpha-1}}{\\Gamma(\\alpha)} \\cdot e^{-v \\lambda} $$ \\\\\n",
    "$$\n",
    "\\therefore \\alpha -1 = \\sum_{i=1}^{n} X_{i}, \n",
    "v = n + \\frac{1}{\\beta}\n",
    "$$\n",
    "\n",
    "**For Week-1**\n",
    "$$ \\lambda_{MME} = \\frac{\\sum_{i=1}^{n} X_{i}}{n} = \\beta  , $$\n",
    "\n",
    "$$ \\boldsymbol{\\therefore Posterior_{1} = Gamma(\\sum_{i=1}^{n} X_{i}+1, (n + \\frac{1}{\\beta}))} $$\n",
    "\n",
    "**For Week-2**\n",
    "\n",
    "$$ \\therefore Posterior_{2} \\propto e^{-n \\cdot \\lambda } \\cdot \\frac{ \\lambda^{\\sum_{i=n+1}^{2n} X_{i}} }{\\prod_{i=n+1}^{2n} X_i!} \\times Posterior_{1} \n",
    "$$\n",
    "\n",
    "$$  Posterior_{2} \\propto e^{-n \\cdot \\lambda } \\cdot \\frac{ \\lambda^{\\sum_{i=n+1}^{2n} X_{i}} }{\\prod_{i=n+1}^{2n} X_i!} \\times  e^{-(n \\cdot \\lambda + - \\lambda/ \\beta) } \\cdot { \\lambda^{\\sum_{i=1}^{n} X_{i}} }\n",
    "$$\n",
    "\n",
    "$$  Posterior_{2} \\propto  e^{-(2n \\cdot \\lambda + - \\lambda/ \\beta) } \\cdot { \\lambda^{\\sum_{j=n+1}^{2n} X_{j} + \\sum_{i=1}^{n} X_{i}} }\n",
    "$$\n",
    "\n",
    "$$  Posterior_{2} \\propto  e^{-\\lambda(2n + 1/\\beta) } \\cdot { \\lambda^{\\sum_{j=n+1}^{2n} X_{j} + \\sum_{i=1}^{n} X_{i}} }\n",
    "$$\n",
    "\n",
    "Equating to Gamma distribution we get\n",
    "\n",
    "$$\n",
    "Posterior_{2} \\propto  Gamma(\\sum_{j=n+1}^{2n} X_{j} + \\sum_{i=1}^{n} X_{i}, (2n + \\frac{1}{\\beta})) $$\n",
    "\n",
    "$$\n",
    "{ \\therefore Posterior_{2} \\propto  Gamma(\\sum_{i=1}^{2n} X_{i}, (2n + \\frac{1}{\\beta}))} $$\n",
    "\n",
    "\n",
    "$$ \\boldsymbol{\\therefore Posterior_{2} = Gamma(\\sum_{i=1}^{2n} X_{i}+1, (2n + \\frac{1}{\\beta}))} $$\n",
    "\n",
    "\n",
    "**For Week-3**\n",
    "\n",
    "$$ \\therefore Posterior_{3} \\propto e^{-n \\cdot \\lambda } \\cdot \\frac{ \\lambda^{\\sum_{j=2n+1}^{3n} X_{j}} }{\\prod_{j=2n+1}^{3n} X_j!} \\times Posterior_{2} \n",
    "$$\n",
    "\n",
    "$$ \\boldsymbol{\\therefore Posterior_{3} = Gamma(\\sum_{i=1}^{3n} X_{i}+1, (3n + \\frac{1}{\\beta}))} $$\n",
    "\n",
    "\n",
    "**For Week-4**\n",
    "\n",
    "$$ \\therefore Posterior_{4} \\propto e^{-n \\cdot \\lambda } \\cdot \\frac{ \\lambda^{\\sum_{j=3n+1}^{4n} X_{j}} }{\\prod_{j=3n+1}^{4n} X_j!} \\times Posterior_{3} \n",
    "$$\n",
    "\n",
    "$$ \\boldsymbol{\\therefore Posterior_{4} = Gamma(\\sum_{i=1}^{4n} X_{i}+1, (4n + \\frac{1}{\\beta}))} $$\n",
    "\n"
   ]
  },
  {
   "cell_type": "markdown",
   "metadata": {
    "colab_type": "text",
    "id": "y1SOwaaRGkiR"
   },
   "source": [
    "By observing the above patterns for Posterior of every week we can perform the calculation in a loop as done below."
   ]
  },
  {
   "cell_type": "code",
   "execution_count": 0,
   "metadata": {
    "colab": {},
    "colab_type": "code",
    "id": "IPk5G5vZdq2d"
   },
   "outputs": [],
   "source": [
    "deaths = timedf[timedf['date'] > '2020-02-19']['daily_deaths']"
   ]
  },
  {
   "cell_type": "code",
   "execution_count": 171,
   "metadata": {
    "colab": {
     "base_uri": "https://localhost:8080/",
     "height": 0
    },
    "colab_type": "code",
    "id": "oUAqxKx2fbiq",
    "outputId": "90a98018-6b7e-46a8-afd0-9096d06e1861"
   },
   "outputs": [
    {
     "name": "stdout",
     "output_type": "stream",
     "text": [
      "MAP values \n",
      "Week-1 Lambda (X-Axis) 1.5771812080536913 \tConfidence(Y-axis) 0.8672329201905509\n",
      "Week-2 Lambda (X-Axis) 2.1812080536912752 \tConfidence(Y-axis) 1.025210716281902\n",
      "Week-3 Lambda (X-Axis) 2.785234899328859 \tConfidence(Y-axis) 1.1099470552332638\n",
      "Week-4 Lambda (X-Axis) 2.953020134228188 \tConfidence(Y-axis) 1.2417245845872984\n"
     ]
    },
    {
     "data": {
      "text/plain": [
       "<matplotlib.legend.Legend at 0x7f4419d5eda0>"
      ]
     },
     "execution_count": 171,
     "metadata": {
      "tags": []
     },
     "output_type": "execute_result"
    },
    {
     "data": {
      "image/png": "[encoded data removed]",
      "text/plain": [
       "<Figure size 720x432 with 1 Axes>"
      ]
     },
     "metadata": {
      "needs_background": "light",
      "tags": []
     },
     "output_type": "display_data"
    }
   ],
   "source": [
    "n = 7\n",
    "## Initial beta calculation for the prior\n",
    "lambda_mme = np.mean(deaths[:n])\n",
    "# taking from lambda_mme\n",
    "beta = lambda_mme\n",
    "\n",
    "x = np.linspace(0, 5, 150) \n",
    "y=[]\n",
    "fig = plt.figure(figsize=(10,6))\n",
    "fig.suptitle('Gamma Distribution for Lambda', fontsize=20)\n",
    "plt.xlabel('Lambda', fontsize=14)\n",
    "plt.ylabel('Confidence', fontsize=14)\n",
    "print(\"MAP values \")\n",
    "for i in range(4):\n",
    "  # computing posterior for each week.\n",
    "  alpha = np.sum(deaths[:i*n + n]) + 1\n",
    "  scale = 1.0/((i+1)*n + 1.0/beta)\n",
    "  y.append(gamma.pdf(x, a=alpha, scale = scale ))\n",
    "  # print('MAP for week ',i+1,np.max(y[i]))\n",
    "  print(\"Week-\"+str(i+1),\"Lambda (X-Axis)\",x[np.argmax(y[i])],\"\\tConfidence(Y-axis)\",np.max(y[i]))\n",
    "  plt.plot(x, y[i], label=('Week '+str(i+1)))\n",
    "plt.legend()"
   ]
  },
  {
   "cell_type": "markdown",
   "metadata": {
    "colab_type": "text",
    "id": "yWyAqw90HZSR"
   },
   "source": [
    "**Observations**\n",
    "\n",
    "* These graphs depicts that as the weeks progresses, the number of deaths are increasing and thus the MAP for the Lambda parameter is increasing.\n",
    "* Confidence in MAP value is increasing as the weeks are increasing.\n",
    "* We can also observe that the rate of increase of MAP of Lambda is decreasing. Thus we can infer that increase in deaths per week is going towards saturation."
   ]
  },
  {
   "cell_type": "markdown",
   "metadata": {
    "colab_type": "text",
    "id": "IAguCjQgMeI3"
   },
   "source": [
    "---\n",
    "---\n",
    "# **4. Sample inferences (3):** "
   ]
  },
  {
   "cell_type": "markdown",
   "metadata": {
    "colab_type": "text",
    "id": "jJFjM3cUtaY3"
   },
   "source": [
    "### **4.1 Use Chi-square independence test to check if COVID19 impacted your X dataset in some way.**"
   ]
  },
  {
   "cell_type": "markdown",
   "metadata": {
    "colab_type": "text",
    "id": "irzinQTtv44C"
   },
   "source": [
    "---\n",
    " *    ### **Chi-square independence Test 1**\n",
    "\n",
    "     *Chosen X Dataset for this task:* **`SearchTrends.csv`**\n",
    "\n",
    "     *Selected Time Period:* **`February to April (2019 and 2020)`**\n",
    "\n",
    "    We are comparing search trends of [ cold, flu, pneumonia ] for year 2019 and year 2020. Particularly we chose the interval of February to April for each year to check the independence of aggregate searches in those time period (with and without pandemic) and decide whether they are independent or not.\n",
    "\n",
    "  $H_o$:  `Search trends [ cold, flu, pneumonia ] independent of COVID time-period.`\n",
    "\n",
    "  $H_1$:  `Search trends [ cold, flu, pneumonia ] not independent of COVID time-period.`\n"
   ]
  },
  {
   "cell_type": "code",
   "execution_count": 0,
   "metadata": {
    "colab": {},
    "colab_type": "code",
    "id": "u0kGcWs1GLZM"
   },
   "outputs": [],
   "source": [
    "# We filter the dates from February to April from our X dataset and prepare the chi-square table as shown below\n",
    "\n",
    "r1 = trend_df[trend_df.date >= '2020-02-01'].mean().tolist()\n",
    "del r1[-1]\n",
    "r2 = trend_df[(trend_df.date >= '2019-02-01') & (trend_df.date <= '2019-04-29')].mean().tolist()\n",
    "del r2[-1]\n",
    "chisq = pd.DataFrame(columns = ['Year','cold','flu','pneumonia'])\n",
    "r1.insert(0,'2019')\n",
    "r2.insert(0,'2020')\n",
    "chisq.loc[len(chisq)] = r1\n",
    "chisq.loc[len(chisq)] = r2\n",
    "chisq['Total'] = chisq.sum(axis=1)\n",
    "chisq.loc['Total']= chisq.sum()\n",
    "chisq.loc[chisq.index =='Total', 'Year']=''"
   ]
  },
  {
   "cell_type": "code",
   "execution_count": 173,
   "metadata": {
    "colab": {
     "base_uri": "https://localhost:8080/",
     "height": 138
    },
    "colab_type": "code",
    "id": "okYNRZ2jMqGR",
    "outputId": "6e7bd855-7c7d-4e80-d998-e15f70c30ada"
   },
   "outputs": [
    {
     "data": {
      "text/html": [
       "<div>\n",
       "<style scoped>\n",
       "    .dataframe tbody tr th:only-of-type {\n",
       "        vertical-align: middle;\n",
       "    }\n",
       "\n",
       "    .dataframe tbody tr th {\n",
       "        vertical-align: top;\n",
       "    }\n",
       "\n",
       "    .dataframe thead th {\n",
       "        text-align: right;\n",
       "    }\n",
       "</style>\n",
       "<table border=\"1\" class=\"dataframe\">\n",
       "  <thead>\n",
       "    <tr style=\"text-align: right;\">\n",
       "      <th></th>\n",
       "      <th>Year</th>\n",
       "      <th>cold</th>\n",
       "      <th>flu</th>\n",
       "      <th>pneumonia</th>\n",
       "      <th>Total</th>\n",
       "    </tr>\n",
       "  </thead>\n",
       "  <tbody>\n",
       "    <tr>\n",
       "      <th>0</th>\n",
       "      <td>2019</td>\n",
       "      <td>0.681204</td>\n",
       "      <td>0.133843</td>\n",
       "      <td>0.444408</td>\n",
       "      <td>1.259454</td>\n",
       "    </tr>\n",
       "    <tr>\n",
       "      <th>1</th>\n",
       "      <td>2020</td>\n",
       "      <td>0.326229</td>\n",
       "      <td>0.279948</td>\n",
       "      <td>0.161711</td>\n",
       "      <td>0.767889</td>\n",
       "    </tr>\n",
       "    <tr>\n",
       "      <th>Total</th>\n",
       "      <td></td>\n",
       "      <td>1.007433</td>\n",
       "      <td>0.413791</td>\n",
       "      <td>0.606119</td>\n",
       "      <td>2.027343</td>\n",
       "    </tr>\n",
       "  </tbody>\n",
       "</table>\n",
       "</div>"
      ],
      "text/plain": [
       "       Year      cold       flu  pneumonia     Total\n",
       "0      2019  0.681204  0.133843   0.444408  1.259454\n",
       "1      2020  0.326229  0.279948   0.161711  0.767889\n",
       "Total        1.007433  0.413791   0.606119  2.027343"
      ]
     },
     "execution_count": 173,
     "metadata": {
      "tags": []
     },
     "output_type": "execute_result"
    }
   ],
   "source": [
    "chisq"
   ]
  },
  {
   "cell_type": "code",
   "execution_count": 0,
   "metadata": {
    "colab": {},
    "colab_type": "code",
    "id": "qPaqZjx1MstY"
   },
   "outputs": [],
   "source": [
    "# We calculate the expected values and append them to a list.\n",
    "\n",
    "column = ['cold','flu','pneumonia']\n",
    "obs_val = []\n",
    "exp_val = []\n",
    "for index, rows in chisq.iterrows(): \n",
    "    if(index !='Total'):\n",
    "      exp = []\n",
    "      for col in column:\n",
    "        exp.append((chisq.iloc[-1][col]/chisq.iloc[-1][-1])*chisq.iloc[index][-1])\n",
    "      obs = [rows.cold, rows.flu, rows.pneumonia]\n",
    "      obs_val.append(obs)\n",
    "      exp_val.append(exp) "
   ]
  },
  {
   "cell_type": "code",
   "execution_count": 175,
   "metadata": {
    "colab": {
     "base_uri": "https://localhost:8080/",
     "height": 54
    },
    "colab_type": "code",
    "id": "5nC_2UdAMuoz",
    "outputId": "20f96d5e-ccda-4e01-daa0-5d0f5a639511"
   },
   "outputs": [
    {
     "name": "stdout",
     "output_type": "stream",
     "text": [
      "Degrees of Freedom:  2\n",
      "Chi-square (X2) value:  0.20115381070148514\n"
     ]
    }
   ],
   "source": [
    "# Using the two lists (observed and expected values), calculate chi-square from the table\n",
    "\n",
    "sum = 0\n",
    "for i in range(len(obs_val)):\n",
    "    for j in range(len(obs_val[1])):\n",
    "        sum += ((obs_val[i][j]- exp_val[i][j])**2)/exp_val[i][j]\n",
    "\n",
    "dof = (len(obs_val)-1)*(len(obs_val[1])-1)\n",
    "print(\"Degrees of Freedom: \",dof)\n",
    "print(\"Chi-square (X2) value: \",sum)"
   ]
  },
  {
   "cell_type": "markdown",
   "metadata": {
    "colab_type": "text",
    "id": "jfEpjj26MzpZ"
   },
   "source": [
    "**Result-1:**\n",
    "\n",
    "CDF at Chi-square ($Χ^2$) value **0.20115** = `0.09568`\n",
    "\n",
    "P-Value = 1 - 0.09568 = `0.90432`\n",
    "\n",
    "Since, p-value > 0.05, we accept $H_o$, which states that search trends [ cold, flu, pneumonia ] are independent of COVID time-period.\n"
   ]
  },
  {
   "cell_type": "markdown",
   "metadata": {
    "colab_type": "text",
    "id": "xs8KRHaYNHSN"
   },
   "source": [
    "---\n",
    "Now we plan to check independence of each individual month from the previous year which match to COVID-19 time range.\n",
    " *    ### **Chi-square independence Test 2**    \n",
    "\n",
    "    *Chosen X Dataset for this task:* **`SearchTrends.csv`**\n",
    "\n",
    "    *Selected Time Period:* **`February (2019 and 2020)`**\n",
    "\n",
    "    We are comparing search trends of [ cold, flu, pneumonia ] for year 2019 and year 2020. Particularly, we chose the month of **February** for each year to check the independence of aggregate searches in this time period (with and without pandemic) and decide whether they are independent or not.\n",
    "\n",
    "  $H_o$:  `Search trends [ cold, flu, pneumonia ] independent of COVID time-period.`\n",
    "\n",
    "  $H_1$:  `Search trends [ cold, flu, pneumonia ] not independent of COVID time-period.`\n",
    "\n"
   ]
  },
  {
   "cell_type": "code",
   "execution_count": 0,
   "metadata": {
    "colab": {},
    "colab_type": "code",
    "id": "A22mO1DxMwWh"
   },
   "outputs": [],
   "source": [
    "# We filter the dates of February from our X dataset and prepare the chi-square table as shown below\n",
    "\n",
    "r1 = trend_df[(trend_df.date >= '2020-02-01') & (trend_df.date <= '2020-02-29')].mean().tolist()\n",
    "# r1 = [r*100 for r in r1]\n",
    "del r1[-1]\n",
    "r2 = trend_df[(trend_df.date >= '2019-02-01') & (trend_df.date <= '2019-02-29')].mean().tolist()\n",
    "# r2 = [r*100 for r in r2]\n",
    "del r2[-1]\n",
    "chisq = pd.DataFrame(columns = ['Year','cold','flu','pneumonia'])\n",
    "r1.insert(0,'Feb 2019')\n",
    "r2.insert(0,'Feb 2020')\n",
    "chisq.loc[len(chisq)] = r1\n",
    "chisq.loc[len(chisq)] = r2\n",
    "chisq['Total'] = chisq.sum(axis=1)\n",
    "chisq.loc['Total']= chisq.sum()\n",
    "chisq.loc[chisq.index =='Total', 'Year']=''"
   ]
  },
  {
   "cell_type": "code",
   "execution_count": 177,
   "metadata": {
    "colab": {
     "base_uri": "https://localhost:8080/",
     "height": 138
    },
    "colab_type": "code",
    "id": "cfn5JF0VNWx8",
    "outputId": "94962525-cccf-4aeb-df6d-c2137dbfc156"
   },
   "outputs": [
    {
     "data": {
      "text/html": [
       "<div>\n",
       "<style scoped>\n",
       "    .dataframe tbody tr th:only-of-type {\n",
       "        vertical-align: middle;\n",
       "    }\n",
       "\n",
       "    .dataframe tbody tr th {\n",
       "        vertical-align: top;\n",
       "    }\n",
       "\n",
       "    .dataframe thead th {\n",
       "        text-align: right;\n",
       "    }\n",
       "</style>\n",
       "<table border=\"1\" class=\"dataframe\">\n",
       "  <thead>\n",
       "    <tr style=\"text-align: right;\">\n",
       "      <th></th>\n",
       "      <th>Year</th>\n",
       "      <th>cold</th>\n",
       "      <th>flu</th>\n",
       "      <th>pneumonia</th>\n",
       "      <th>Total</th>\n",
       "    </tr>\n",
       "  </thead>\n",
       "  <tbody>\n",
       "    <tr>\n",
       "      <th>0</th>\n",
       "      <td>Feb 2019</td>\n",
       "      <td>1.000226</td>\n",
       "      <td>0.228289</td>\n",
       "      <td>0.805069</td>\n",
       "      <td>2.033583</td>\n",
       "    </tr>\n",
       "    <tr>\n",
       "      <th>1</th>\n",
       "      <td>Feb 2020</td>\n",
       "      <td>0.083795</td>\n",
       "      <td>0.102417</td>\n",
       "      <td>0.131764</td>\n",
       "      <td>0.317976</td>\n",
       "    </tr>\n",
       "    <tr>\n",
       "      <th>Total</th>\n",
       "      <td></td>\n",
       "      <td>1.084021</td>\n",
       "      <td>0.330706</td>\n",
       "      <td>0.936833</td>\n",
       "      <td>2.351559</td>\n",
       "    </tr>\n",
       "  </tbody>\n",
       "</table>\n",
       "</div>"
      ],
      "text/plain": [
       "           Year      cold       flu  pneumonia     Total\n",
       "0      Feb 2019  1.000226  0.228289   0.805069  2.033583\n",
       "1      Feb 2020  0.083795  0.102417   0.131764  0.317976\n",
       "Total            1.084021  0.330706   0.936833  2.351559"
      ]
     },
     "execution_count": 177,
     "metadata": {
      "tags": []
     },
     "output_type": "execute_result"
    }
   ],
   "source": [
    "chisq"
   ]
  },
  {
   "cell_type": "code",
   "execution_count": 0,
   "metadata": {
    "colab": {},
    "colab_type": "code",
    "id": "G2N9gYHBNXoS"
   },
   "outputs": [],
   "source": [
    "# We calculate the expected values and append them to a list.\n",
    "\n",
    "column = ['cold','flu','pneumonia']\n",
    "obs_val = []\n",
    "exp_val = []\n",
    "for index, rows in chisq.iterrows(): \n",
    "    if(index !='Total'):\n",
    "      exp = []\n",
    "      for col in column:\n",
    "        exp.append((chisq.iloc[-1][col]/chisq.iloc[-1][-1])*chisq.iloc[index][-1])\n",
    "      obs = [rows.cold, rows.flu, rows.pneumonia]\n",
    "      obs_val.append(obs)\n",
    "      exp_val.append(exp) "
   ]
  },
  {
   "cell_type": "code",
   "execution_count": 179,
   "metadata": {
    "colab": {
     "base_uri": "https://localhost:8080/",
     "height": 54
    },
    "colab_type": "code",
    "id": "iMQPJI3TNZyK",
    "outputId": "bb5adecc-6024-4412-9805-de46e7fa7488"
   },
   "outputs": [
    {
     "name": "stdout",
     "output_type": "stream",
     "text": [
      "Degrees of Freedom:  2\n",
      "Chi-square (X2) value:  0.11742520094249063\n"
     ]
    }
   ],
   "source": [
    "# Using the two lists (observed and expected values), calculate chi-square from the table\n",
    "sum = 0\n",
    "for i in range(len(obs_val)):\n",
    "    for j in range(len(obs_val[1])):\n",
    "        sum += ((obs_val[i][j]- exp_val[i][j])**2)/exp_val[i][j]\n",
    "\n",
    "dof = (len(obs_val)-1)*(len(obs_val[1])-1)\n",
    "print(\"Degrees of Freedom: \",dof)\n",
    "print(\"Chi-square (X2) value: \",sum)"
   ]
  },
  {
   "cell_type": "markdown",
   "metadata": {
    "colab_type": "text",
    "id": "HIp_UH8DNgbu"
   },
   "source": [
    "**Result-2:**\n",
    "CDF at Chi-square ($Χ^2$) value **0.11743** = `0.05701`\n",
    "\n",
    "P-Value = 1 - 0.05701 = `0.94299`\n",
    "\n",
    "Since, p-value > 0.05, we accept $H_o$, which states that search trends [ cold, flu, pneumonia ] are independent of COVID time-period.\n"
   ]
  },
  {
   "cell_type": "markdown",
   "metadata": {
    "colab_type": "text",
    "id": "EpuX910fNgkk"
   },
   "source": [
    "---\n",
    "*   ### **Chi-square independence Test 3**\n",
    "\n",
    "    *Chosen X Dataset for this task:* ***`SearchTrends.csv`***\n",
    "\n",
    "    *Selected Time Period*: ***`March (2019 and 2020)`***\n",
    "\n",
    "    We are comparing search trends of [ cold, flu, pneumonia ] for year 2019 and year 2020. Particularly, we chose the month of **March** for both the years  to check the independence of aggregate searches in this time period (with and without pandemic) and decide whether they are independent or not.\n",
    "\n",
    "  $H_o$:  `Search trends [ cold, flu, pneumonia ] independent of COVID time-period.`\n",
    "\n",
    "  $H_1$:  `Search trends [ cold, flu, pneumonia ] not independent of COVID time-period.`\n",
    "\n"
   ]
  },
  {
   "cell_type": "code",
   "execution_count": 0,
   "metadata": {
    "colab": {},
    "colab_type": "code",
    "id": "PZBOg_rtNegU"
   },
   "outputs": [],
   "source": [
    "# We filter the dates of March from our X dataset and prepare the chi-square table as shown below\n",
    "\n",
    "r1 = trend_df[(trend_df.date >= '2020-03-01') & (trend_df.date <= '2020-03-31')].mean().tolist()\n",
    "del r1[-1]\n",
    "r2 = trend_df[(trend_df.date >= '2019-03-01') & (trend_df.date <= '2019-03-31')].mean().tolist()\n",
    "del r2[-1]\n",
    "chisq = pd.DataFrame(columns = ['Year','cold','flu','pneumonia'])\n",
    "r1.insert(0,'March 2019')\n",
    "r2.insert(0,'March 2020')\n",
    "chisq.loc[len(chisq)] = r1\n",
    "chisq.loc[len(chisq)] = r2\n",
    "chisq['Total'] = chisq.sum(axis=1)\n",
    "chisq.loc['Total']= chisq.sum()\n",
    "chisq.loc[chisq.index =='Total', 'Year']=''"
   ]
  },
  {
   "cell_type": "code",
   "execution_count": 181,
   "metadata": {
    "colab": {
     "base_uri": "https://localhost:8080/",
     "height": 138
    },
    "colab_type": "code",
    "id": "RTuCzmBuNqg3",
    "outputId": "afc095c9-f2fb-44a4-84ed-e426027f82a8"
   },
   "outputs": [
    {
     "data": {
      "text/html": [
       "<div>\n",
       "<style scoped>\n",
       "    .dataframe tbody tr th:only-of-type {\n",
       "        vertical-align: middle;\n",
       "    }\n",
       "\n",
       "    .dataframe tbody tr th {\n",
       "        vertical-align: top;\n",
       "    }\n",
       "\n",
       "    .dataframe thead th {\n",
       "        text-align: right;\n",
       "    }\n",
       "</style>\n",
       "<table border=\"1\" class=\"dataframe\">\n",
       "  <thead>\n",
       "    <tr style=\"text-align: right;\">\n",
       "      <th></th>\n",
       "      <th>Year</th>\n",
       "      <th>cold</th>\n",
       "      <th>flu</th>\n",
       "      <th>pneumonia</th>\n",
       "      <th>Total</th>\n",
       "    </tr>\n",
       "  </thead>\n",
       "  <tbody>\n",
       "    <tr>\n",
       "      <th>0</th>\n",
       "      <td>March 2019</td>\n",
       "      <td>0.673667</td>\n",
       "      <td>0.097356</td>\n",
       "      <td>0.304804</td>\n",
       "      <td>1.075827</td>\n",
       "    </tr>\n",
       "    <tr>\n",
       "      <th>1</th>\n",
       "      <td>March 2020</td>\n",
       "      <td>0.721709</td>\n",
       "      <td>0.229631</td>\n",
       "      <td>0.153791</td>\n",
       "      <td>1.105131</td>\n",
       "    </tr>\n",
       "    <tr>\n",
       "      <th>Total</th>\n",
       "      <td></td>\n",
       "      <td>1.395376</td>\n",
       "      <td>0.326986</td>\n",
       "      <td>0.458595</td>\n",
       "      <td>2.180958</td>\n",
       "    </tr>\n",
       "  </tbody>\n",
       "</table>\n",
       "</div>"
      ],
      "text/plain": [
       "             Year      cold       flu  pneumonia     Total\n",
       "0      March 2019  0.673667  0.097356   0.304804  1.075827\n",
       "1      March 2020  0.721709  0.229631   0.153791  1.105131\n",
       "Total              1.395376  0.326986   0.458595  2.180958"
      ]
     },
     "execution_count": 181,
     "metadata": {
      "tags": []
     },
     "output_type": "execute_result"
    }
   ],
   "source": [
    "chisq"
   ]
  },
  {
   "cell_type": "code",
   "execution_count": 0,
   "metadata": {
    "colab": {},
    "colab_type": "code",
    "id": "vVXOKiZRNsI1"
   },
   "outputs": [],
   "source": [
    "# We calculate the expected values and append them to a list.\n",
    "\n",
    "column = ['cold','flu','pneumonia']\n",
    "obs_val = []\n",
    "exp_val = []\n",
    "for index, rows in chisq.iterrows(): \n",
    "    if(index !='Total'):\n",
    "      exp = []\n",
    "      for col in column:\n",
    "        exp.append((chisq.iloc[-1][col]/chisq.iloc[-1][-1])*chisq.iloc[index][-1])\n",
    "      obs = [rows.cold, rows.flu, rows.pneumonia]\n",
    "      obs_val.append(obs)\n",
    "      exp_val.append(exp) "
   ]
  },
  {
   "cell_type": "code",
   "execution_count": 183,
   "metadata": {
    "colab": {
     "base_uri": "https://localhost:8080/",
     "height": 54
    },
    "colab_type": "code",
    "id": "ZURD1xLqNvfA",
    "outputId": "0db6aa89-72a7-42e3-c59e-c75916262368"
   },
   "outputs": [
    {
     "name": "stdout",
     "output_type": "stream",
     "text": [
      "Degrees of Freedom:  2\n",
      "Chi-square (X2) value:  0.10451565276494187\n"
     ]
    }
   ],
   "source": [
    "# Using the two lists (observed and expected values), calculate chi-square from the table\n",
    "\n",
    "sum = 0\n",
    "for i in range(len(obs_val)):\n",
    "    for j in range(len(obs_val[1])):\n",
    "        sum += ((obs_val[i][j]- exp_val[i][j])**2)/exp_val[i][j]\n",
    "\n",
    "dof = (len(obs_val)-1)*(len(obs_val[1])-1)\n",
    "print(\"Degrees of Freedom: \",dof)\n",
    "print(\"Chi-square (X2) value: \",sum)"
   ]
  },
  {
   "cell_type": "markdown",
   "metadata": {
    "colab_type": "text",
    "id": "lhVHpeJ-N6Vp"
   },
   "source": [
    "**Result-3:**\n",
    "CDF at Chi-square ($Χ^2$) value **0.10452** = `0.05091`\n",
    "\n",
    "P-Value = 1 - 0.05091 = `0.94909`\n",
    "\n",
    "Since, p-value > 0.05, we accept $H_o$, which states that search trends [ cold, flu, pneumonia ] are independent of COVID time-period.\n"
   ]
  },
  {
   "cell_type": "markdown",
   "metadata": {
    "colab_type": "text",
    "id": "BIsvZRclN90k"
   },
   "source": [
    "---\n",
    "*   ### **Chi-square independence Test 4**\n",
    "\n",
    "    *Chosen X Dataset for this task:* ***`SearchTrends.csv`***\n",
    "    \n",
    "    *Selected Time Period*: ***`April (2019 and 2020)`***\n",
    "\n",
    "    We are comparing search trends of [ cold, flu, pneumonia ] for year 2019 and year 2020. Particularly we chose the month of **April** for both the years to check the independence of aggregate searches in this time period (with and without pandemic) and decide whether they are independent or not.\n",
    "\n",
    "  $H_o$:  `Search trends [ cold, flu, pneumonia ] independent of COVID time-period.`\n",
    "\n",
    "  $H_1$:  `Search trends [ cold, flu, pneumonia ] not independent of COVID time-period.`\n",
    "\n"
   ]
  },
  {
   "cell_type": "code",
   "execution_count": 0,
   "metadata": {
    "colab": {},
    "colab_type": "code",
    "id": "RNcTV6FqNxGw"
   },
   "outputs": [],
   "source": [
    "# We filter the dates of April from our X dataset and prepare the chi-square table as shown below\n",
    "\n",
    "r1 = trend_df[(trend_df.date >= '2020-04-01') & (trend_df.date <= '2020-04-29')].mean().tolist()\n",
    "del r1[-1]\n",
    "r2 = trend_df[(trend_df.date >= '2019-04-01') & (trend_df.date <= '2019-04-29')].mean().tolist()\n",
    "del r2[-1]\n",
    "chisq = pd.DataFrame(columns = ['Year','cold','flu','pneumonia'])\n",
    "r1.insert(0,'April 2019')\n",
    "r2.insert(0,'April 2020')\n",
    "chisq.loc[len(chisq)] = r1\n",
    "chisq.loc[len(chisq)] = r2\n",
    "chisq['Total'] = chisq.sum(axis=1)\n",
    "chisq.loc['Total']= chisq.sum()\n",
    "chisq.loc[chisq.index =='Total', 'Year']=''"
   ]
  },
  {
   "cell_type": "code",
   "execution_count": 185,
   "metadata": {
    "colab": {
     "base_uri": "https://localhost:8080/",
     "height": 138
    },
    "colab_type": "code",
    "id": "7J_I4xxfOAFb",
    "outputId": "5da109ea-e62f-46aa-a6af-a1924dacdad1"
   },
   "outputs": [
    {
     "data": {
      "text/html": [
       "<div>\n",
       "<style scoped>\n",
       "    .dataframe tbody tr th:only-of-type {\n",
       "        vertical-align: middle;\n",
       "    }\n",
       "\n",
       "    .dataframe tbody tr th {\n",
       "        vertical-align: top;\n",
       "    }\n",
       "\n",
       "    .dataframe thead th {\n",
       "        text-align: right;\n",
       "    }\n",
       "</style>\n",
       "<table border=\"1\" class=\"dataframe\">\n",
       "  <thead>\n",
       "    <tr style=\"text-align: right;\">\n",
       "      <th></th>\n",
       "      <th>Year</th>\n",
       "      <th>cold</th>\n",
       "      <th>flu</th>\n",
       "      <th>pneumonia</th>\n",
       "      <th>Total</th>\n",
       "    </tr>\n",
       "  </thead>\n",
       "  <tbody>\n",
       "    <tr>\n",
       "      <th>0</th>\n",
       "      <td>April 2019</td>\n",
       "      <td>0.206574</td>\n",
       "      <td>0.049219</td>\n",
       "      <td>0.121699</td>\n",
       "      <td>0.377492</td>\n",
       "    </tr>\n",
       "    <tr>\n",
       "      <th>1</th>\n",
       "      <td>April 2020</td>\n",
       "      <td>0.137549</td>\n",
       "      <td>0.505146</td>\n",
       "      <td>0.199093</td>\n",
       "      <td>0.841788</td>\n",
       "    </tr>\n",
       "    <tr>\n",
       "      <th>Total</th>\n",
       "      <td></td>\n",
       "      <td>0.344123</td>\n",
       "      <td>0.554365</td>\n",
       "      <td>0.320792</td>\n",
       "      <td>1.219280</td>\n",
       "    </tr>\n",
       "  </tbody>\n",
       "</table>\n",
       "</div>"
      ],
      "text/plain": [
       "             Year      cold       flu  pneumonia     Total\n",
       "0      April 2019  0.206574  0.049219   0.121699  0.377492\n",
       "1      April 2020  0.137549  0.505146   0.199093  0.841788\n",
       "Total              0.344123  0.554365   0.320792  1.219280"
      ]
     },
     "execution_count": 185,
     "metadata": {
      "tags": []
     },
     "output_type": "execute_result"
    }
   ],
   "source": [
    "chisq"
   ]
  },
  {
   "cell_type": "code",
   "execution_count": 0,
   "metadata": {
    "colab": {},
    "colab_type": "code",
    "id": "4iil8TDZOBzV"
   },
   "outputs": [],
   "source": [
    "# We calculate the expected values and append them to a list.\n",
    "\n",
    "column = ['cold','flu','pneumonia']\n",
    "obs_val = []\n",
    "exp_val = []\n",
    "for index, rows in chisq.iterrows(): \n",
    "    if(index !='Total'):\n",
    "      exp = []\n",
    "      for col in column:\n",
    "        exp.append((chisq.iloc[-1][col]/chisq.iloc[-1][-1])*chisq.iloc[index][-1])\n",
    "      obs = [rows.cold, rows.flu, rows.pneumonia]\n",
    "      obs_val.append(obs)\n",
    "      exp_val.append(exp) "
   ]
  },
  {
   "cell_type": "code",
   "execution_count": 187,
   "metadata": {
    "colab": {
     "base_uri": "https://localhost:8080/",
     "height": 54
    },
    "colab_type": "code",
    "id": "-EN54FPrODiE",
    "outputId": "a2504aa2-300b-43b5-db53-c91a121bf98d"
   },
   "outputs": [
    {
     "name": "stdout",
     "output_type": "stream",
     "text": [
      "Degrees of Freedom:  2\n",
      "Chi-square (X2) value:  0.2698078078948756\n"
     ]
    }
   ],
   "source": [
    "# Using the two lists (observed and expected values), calculate chi-square from the table\n",
    "\n",
    "sum = 0\n",
    "for i in range(len(obs_val)):\n",
    "    for j in range(len(obs_val[1])):\n",
    "        sum += ((obs_val[i][j]- exp_val[i][j])**2)/exp_val[i][j]\n",
    "\n",
    "dof = (len(obs_val)-1)*(len(obs_val[1])-1)\n",
    "print(\"Degrees of Freedom: \",dof)\n",
    "print(\"Chi-square (X2) value: \",sum)"
   ]
  },
  {
   "cell_type": "markdown",
   "metadata": {
    "colab_type": "text",
    "id": "bs107Pt8OI3F"
   },
   "source": [
    "**Result-4:**\n",
    "CDF at Chi-square ($Χ^2$) value **0.26981** = `0.126196`\n",
    "\n",
    "P-Value = 1 - 0.126196 = `0.873804`\n",
    "\n",
    "Since, p-value > 0.05, we accept $H_o$, which states that search trends [ cold, flu, pneumonia ] are independent of COVID time-period.\n"
   ]
  },
  {
   "cell_type": "markdown",
   "metadata": {
    "colab_type": "text",
    "id": "_-PIDl0VtOw2"
   },
   "source": [
    "---\n",
    "---\n",
    "### **4.2 Use your X dataset to check if COVID19 had an impact on the X data.**"
   ]
  },
  {
   "cell_type": "markdown",
   "metadata": {
    "colab_type": "text",
    "id": "hOC4zirPuITN"
   },
   "source": [
    "* For this inference, we consider Seoul's floating population data. Floating population can be described as people who are not residents of a particular city/area but regulary visit there for work-related or tourism purposes. \n",
    "\n",
    "* We conduct an Unpaired T-test where we consider the first population to be the means of daily floating population in month of January and we consider the entire month data as a sample for it.\n",
    "\n",
    "* We consider the second population to be the means of daily floating population in month of February and we consider the entire month data as a sample for it.\n",
    "\n",
    "* Due to COVID-19 we expect that the average floating population should decrease during February due to stay at home orders.\n",
    "\n",
    "* We filter the age of the population considered to be at most 20. (Considering for working population)"
   ]
  },
  {
   "cell_type": "code",
   "execution_count": 0,
   "metadata": {
    "colab": {},
    "colab_type": "code",
    "id": "1kN_kqDItQ4X"
   },
   "outputs": [],
   "source": [
    "max_age_considered = 20\n",
    "floating_original = floating_df[(floating_df.birth_year <= max_age_considered)] #filter the data for age of floating population"
   ]
  },
  {
   "cell_type": "markdown",
   "metadata": {
    "colab_type": "text",
    "id": "dpzx4YMIuQOd"
   },
   "source": [
    "### **T-Test Details**\n",
    "\n",
    "1. We do a one sided unpaired T-test where the hypothesis are:\n",
    "\n",
    "  $H_o$:  `Mean(January) > Mean(Febrauary)`\n",
    "\n",
    "  $H_1$:  `Mean(January) <= Mean(Febrauary)`\n",
    "\n",
    "2. We do this for 2 districts of **Jungnang-gu** and **Jongno-gu**, where the former is a residential district and the latter is an industrial district.\n",
    "\n",
    "3. $$ T =  \\frac{U_{jan} - U_{feb } - 0}{\\sqrt{\\frac{S_{jan}^2}{n} + \\frac{S_{feb}^2}{m}}} < - t(n + m -2, \\alpha = 0.05) $$ "
   ]
  },
  {
   "cell_type": "code",
   "execution_count": 0,
   "metadata": {
    "colab": {},
    "colab_type": "code",
    "id": "5Eoe_N-OuWFl"
   },
   "outputs": [],
   "source": [
    "#Jungnang-gu\n",
    "dt_jan_jung = floating_original[(floating_original.date >= '2020-01-01') & (floating_original.date <= '2020-01-30') & (floating_original.city == 'Jungnang-gu')]\n",
    "dt_feb_jung = floating_original[(floating_original.date >= '2020-02-01') & (floating_original.date <= '2020-03-01') & (floating_original.city == 'Jungnang-gu')]\n",
    "#Jongno-gu\n",
    "dt_jan_jong = floating_original[(floating_original.date >= '2020-01-01') & (floating_original.date <= '2020-01-30') & (floating_original.city == 'Jongno-gu')]\n",
    "dt_feb_jong = floating_original[(floating_original.date >= '2020-02-01') & (floating_original.date <= '2020-03-01') & (floating_original.city == 'Jongno-gu')]"
   ]
  },
  {
   "cell_type": "code",
   "execution_count": 0,
   "metadata": {
    "colab": {},
    "colab_type": "code",
    "id": "9sckt5chuvXm"
   },
   "outputs": [],
   "source": [
    "def floating_pop_t_test(jan_floating, feb_floating, district):\n",
    "  jan_mean = jan_floating.mean()\n",
    "  feb_mean = feb_floating.mean()\n",
    "  sample_var_jan = 0\n",
    "  sample_var_feb = 0\n",
    "  for i in range(len(jan_floating)):\n",
    "    sample_var_jan += ((jan_floating[i] - jan_mean)*(jan_floating[i] - jan_mean))/(len(jan_floating)*1.0)\n",
    "\n",
    "  for i in range(len(feb_floating)):\n",
    "    sample_var_feb += ((feb_floating[i] - feb_mean)*(feb_floating[i] - feb_mean))/(len(feb_floating)*1.0)\n",
    "  \n",
    "  pooled_standard_dev = sqrt(sample_var_jan + sample_var_feb)\n",
    "  \n",
    "  #Calculating T-statistic here\n",
    "  t_statistic = (jan_mean - feb_mean - 0)/pooled_standard_dev\n",
    "\n",
    "  degrees_of_freedom = len(jan_floating) + len(feb_floating) - 2\n",
    "\n",
    "  #pre-calculated T-statistic for degrees_of_freedom(57)\n",
    "  if t_statistic < -1.672:\n",
    "    print(\"T unpaired test rejects the null hypothesis for district %s, statistic: %0.3f\" % (district, t_statistic))\n",
    "  else:\n",
    "    print(\"T unpaired test accepts the null hypothesis for district %s, statistic: %0.3f\" % (district, t_statistic))"
   ]
  },
  {
   "cell_type": "markdown",
   "metadata": {
    "colab_type": "text",
    "id": "98ZC0RWEuwZV"
   },
   "source": [
    "**Jungnang-Gu Tests**"
   ]
  },
  {
   "cell_type": "code",
   "execution_count": 191,
   "metadata": {
    "colab": {
     "base_uri": "https://localhost:8080/",
     "height": 0
    },
    "colab_type": "code",
    "id": "uzWZ1ncNuw8u",
    "outputId": "35734844-9e4a-460c-b9d7-254ef55f459a"
   },
   "outputs": [
    {
     "name": "stdout",
     "output_type": "stream",
     "text": [
      "T unpaired test accepts the null hypothesis for district Jungnang-Gu, statistic: -0.322\n"
     ]
    }
   ],
   "source": [
    "# Unpaired T-test\n",
    "jung_floatpop_mean_jan = dt_jan_jung.groupby(['date'])['fp_num'].mean().values\n",
    "jung_floatpop_mean_feb = dt_feb_jung.groupby(['date'])['fp_num'].mean().values\n",
    "floating_pop_t_test(jung_floatpop_mean_jan, jung_floatpop_mean_feb, \"Jungnang-Gu\")"
   ]
  },
  {
   "cell_type": "markdown",
   "metadata": {
    "colab_type": "text",
    "id": "XTzbcFH_u4Zj"
   },
   "source": [
    "**Jongno-Gu Tests**"
   ]
  },
  {
   "cell_type": "code",
   "execution_count": 192,
   "metadata": {
    "colab": {
     "base_uri": "https://localhost:8080/",
     "height": 0
    },
    "colab_type": "code",
    "id": "ber1zqmGvAFA",
    "outputId": "ae9d9f08-233e-4b17-bd35-e4619ce7deed"
   },
   "outputs": [
    {
     "name": "stdout",
     "output_type": "stream",
     "text": [
      "T unpaired test accepts the null hypothesis for district Jongno-gu, statistic: -0.064\n"
     ]
    }
   ],
   "source": [
    "# Unpaired T-test\n",
    "jong_floatpop_mean_jan = dt_jan_jong.groupby(['date'])['fp_num'].mean().values\n",
    "jong_floatpop_mean_feb = dt_feb_jong.groupby(['date'])['fp_num'].mean().values\n",
    "floating_pop_t_test(jong_floatpop_mean_jan, jong_floatpop_mean_feb, \"Jongno-gu\")"
   ]
  },
  {
   "cell_type": "markdown",
   "metadata": {
    "colab_type": "text",
    "id": "hUQmPUq6vIf1"
   },
   "source": [
    "### **Inferences**\n",
    "\n",
    "* In this case for Jungnang district, the statistic is closer to the threshold, which indicates that that the there is not much difference pre COVID and post COVID floating populations.\n",
    "\n",
    "* In the case for Jongno district the T-test accepts with sufficient delta indicating that there was a difference pre and post COVID floating population. Thus we can say that COVID reduced the floating population in industrial districts."
   ]
  },
  {
   "cell_type": "markdown",
   "metadata": {
    "colab_type": "text",
    "id": "TiT0T7_QvO4o"
   },
   "source": [
    "### **Applicability of Tests**\n",
    "\n",
    "* Since we use sufficiently large samples(30 for Jan, 29 for February) for both distributions and use sample mean as estimator, we can assume that CLT applies and the estimators are Normally distributed.\n",
    "\n",
    "* Since the population samples are independent are approximately normally distributed; we satisfy the assumptions of the unpaired T-test and say that the test is applicable in the current scenario."
   ]
  },
  {
   "cell_type": "markdown",
   "metadata": {
    "colab_type": "text",
    "id": "VJHU0zvH8Aql"
   },
   "source": [
    "### **4.3 Linear Regression**\n",
    "\n",
    "*   We have tried to find impact of **age on the duration of illness.**\n",
    "*   We are considering patients who have been released from hospital or who are deceased.\n",
    "*   **Train-Test Ratio -** 80:20\n",
    "*   Later we have also implemented multiple linear including sex as an independent variable."
   ]
  },
  {
   "cell_type": "code",
   "execution_count": 193,
   "metadata": {
    "colab": {
     "base_uri": "https://localhost:8080/",
     "height": 198
    },
    "colab_type": "code",
    "id": "fLeLDHqs8KXk",
    "outputId": "67eec81d-be1f-4942-d0d7-4b4c024a5e4d"
   },
   "outputs": [
    {
     "data": {
      "text/html": [
       "<div>\n",
       "<style scoped>\n",
       "    .dataframe tbody tr th:only-of-type {\n",
       "        vertical-align: middle;\n",
       "    }\n",
       "\n",
       "    .dataframe tbody tr th {\n",
       "        vertical-align: top;\n",
       "    }\n",
       "\n",
       "    .dataframe thead th {\n",
       "        text-align: right;\n",
       "    }\n",
       "</style>\n",
       "<table border=\"1\" class=\"dataframe\">\n",
       "  <thead>\n",
       "    <tr style=\"text-align: right;\">\n",
       "      <th></th>\n",
       "      <th>birth_year</th>\n",
       "      <th>sex</th>\n",
       "      <th>confirmed_date</th>\n",
       "      <th>released_date</th>\n",
       "      <th>state</th>\n",
       "      <th>age</th>\n",
       "      <th>recovery_days</th>\n",
       "    </tr>\n",
       "  </thead>\n",
       "  <tbody>\n",
       "    <tr>\n",
       "      <th>0</th>\n",
       "      <td>1964.0</td>\n",
       "      <td>2.0</td>\n",
       "      <td>2020-01-23</td>\n",
       "      <td>2020-02-05</td>\n",
       "      <td>released</td>\n",
       "      <td>55.0</td>\n",
       "      <td>13.0</td>\n",
       "    </tr>\n",
       "    <tr>\n",
       "      <th>1</th>\n",
       "      <td>1987.0</td>\n",
       "      <td>2.0</td>\n",
       "      <td>2020-01-30</td>\n",
       "      <td>2020-03-02</td>\n",
       "      <td>released</td>\n",
       "      <td>32.0</td>\n",
       "      <td>32.0</td>\n",
       "    </tr>\n",
       "    <tr>\n",
       "      <th>2</th>\n",
       "      <td>1964.0</td>\n",
       "      <td>2.0</td>\n",
       "      <td>2020-01-30</td>\n",
       "      <td>2020-02-19</td>\n",
       "      <td>released</td>\n",
       "      <td>55.0</td>\n",
       "      <td>20.0</td>\n",
       "    </tr>\n",
       "    <tr>\n",
       "      <th>3</th>\n",
       "      <td>1991.0</td>\n",
       "      <td>2.0</td>\n",
       "      <td>2020-01-30</td>\n",
       "      <td>2020-02-15</td>\n",
       "      <td>released</td>\n",
       "      <td>28.0</td>\n",
       "      <td>16.0</td>\n",
       "    </tr>\n",
       "    <tr>\n",
       "      <th>4</th>\n",
       "      <td>1992.0</td>\n",
       "      <td>1.0</td>\n",
       "      <td>2020-01-31</td>\n",
       "      <td>2020-02-24</td>\n",
       "      <td>released</td>\n",
       "      <td>27.0</td>\n",
       "      <td>24.0</td>\n",
       "    </tr>\n",
       "  </tbody>\n",
       "</table>\n",
       "</div>"
      ],
      "text/plain": [
       "   birth_year  sex confirmed_date released_date     state   age  recovery_days\n",
       "0      1964.0  2.0     2020-01-23    2020-02-05  released  55.0           13.0\n",
       "1      1987.0  2.0     2020-01-30    2020-03-02  released  32.0           32.0\n",
       "2      1964.0  2.0     2020-01-30    2020-02-19  released  55.0           20.0\n",
       "3      1991.0  2.0     2020-01-30    2020-02-15  released  28.0           16.0\n",
       "4      1992.0  1.0     2020-01-31    2020-02-24  released  27.0           24.0"
      ]
     },
     "execution_count": 193,
     "metadata": {
      "tags": []
     },
     "output_type": "execute_result"
    }
   ],
   "source": [
    "lr_data = patientinfo_df[['birth_year','sex','confirmed_date','released_date','state']].copy()\n",
    "\n",
    "lr_data['birth_year'] = pd.to_numeric(lr_data['birth_year'])\n",
    "lr_data['confirmed_date'] = lr_data['confirmed_date'].astype('datetime64[ns]')\n",
    "lr_data['released_date'] = lr_data['released_date'].astype('datetime64[ns]')\n",
    "lr_data['age']=2019-lr_data['birth_year']\n",
    "lr_data=lr_data[lr_data.state !='isolated']\n",
    "lr_data['recovery_days']=lr_data.released_date - lr_data.confirmed_date\n",
    "lr_data['recovery_days'] = lr_data['recovery_days']/ np.timedelta64(1, 'D')\n",
    "lr_data.sex[lr_data.sex=='male'] = 2\n",
    "lr_data.sex[lr_data.sex=='female'] = 1\n",
    "lr_data['sex'] = pd.to_numeric(lr_data['sex'])\n",
    "lr_data = lr_data.dropna()\n",
    "\n",
    "lr_data.head()"
   ]
  },
  {
   "cell_type": "markdown",
   "metadata": {
    "colab_type": "text",
    "id": "moBu7T0tHaRZ"
   },
   "source": [
    "* ##  **Simple Linear Regression**\n",
    "\n",
    "$$ X = \\{Age\\} $$\n",
    "$$ Y = \\{Recovery\\_days\\} $$\n",
    "\\\n",
    "$$\\hat{\\beta}_0=\\bar{Y}-\\hat{\\beta}_1\\bar{X}$$\n",
    "$$\\hat{\\beta}_1=\\frac{\\sum X_iY_i - n \\bar{X} \\bar{Y}} {\\sum {X_i}^2 - n(\\bar{X})^2}$$\n",
    "\\\n",
    "$$\\hat{Y}_i=\\hat{\\beta}_0+\\hat{\\beta}_1X_i $$\n"
   ]
  },
  {
   "cell_type": "code",
   "execution_count": 194,
   "metadata": {
    "colab": {
     "base_uri": "https://localhost:8080/",
     "height": 946
    },
    "colab_type": "code",
    "id": "LdHVQeDy8PoC",
    "outputId": "0a9cd638-6aa4-4cf2-d4d1-9346ba8fb472"
   },
   "outputs": [
    {
     "name": "stdout",
     "output_type": "stream",
     "text": [
      "MAPE: 43.500809992781186\n",
      "Mean Squared Error: 77.50197959321905\n"
     ]
    },
    {
     "data": {
      "image/png": "[encoded data removed]",
      "text/plain": [
       "<Figure size 1080x576 with 1 Axes>"
      ]
     },
     "metadata": {
      "needs_background": "light",
      "tags": []
     },
     "output_type": "display_data"
    },
    {
     "data": {
      "text/html": [
       "<div>\n",
       "<style scoped>\n",
       "    .dataframe tbody tr th:only-of-type {\n",
       "        vertical-align: middle;\n",
       "    }\n",
       "\n",
       "    .dataframe tbody tr th {\n",
       "        vertical-align: top;\n",
       "    }\n",
       "\n",
       "    .dataframe thead th {\n",
       "        text-align: right;\n",
       "    }\n",
       "</style>\n",
       "<table border=\"1\" class=\"dataframe\">\n",
       "  <thead>\n",
       "    <tr style=\"text-align: right;\">\n",
       "      <th></th>\n",
       "      <th>Actual</th>\n",
       "      <th>Predicted</th>\n",
       "    </tr>\n",
       "  </thead>\n",
       "  <tbody>\n",
       "    <tr>\n",
       "      <th>0</th>\n",
       "      <td>20.0</td>\n",
       "      <td>21.513769</td>\n",
       "    </tr>\n",
       "    <tr>\n",
       "      <th>1</th>\n",
       "      <td>21.0</td>\n",
       "      <td>21.557063</td>\n",
       "    </tr>\n",
       "    <tr>\n",
       "      <th>2</th>\n",
       "      <td>21.0</td>\n",
       "      <td>20.518024</td>\n",
       "    </tr>\n",
       "    <tr>\n",
       "      <th>3</th>\n",
       "      <td>15.0</td>\n",
       "      <td>20.431438</td>\n",
       "    </tr>\n",
       "    <tr>\n",
       "      <th>4</th>\n",
       "      <td>17.0</td>\n",
       "      <td>22.596101</td>\n",
       "    </tr>\n",
       "    <tr>\n",
       "      <th>...</th>\n",
       "      <td>...</td>\n",
       "      <td>...</td>\n",
       "    </tr>\n",
       "    <tr>\n",
       "      <th>197</th>\n",
       "      <td>32.0</td>\n",
       "      <td>20.561317</td>\n",
       "    </tr>\n",
       "    <tr>\n",
       "      <th>198</th>\n",
       "      <td>14.0</td>\n",
       "      <td>20.561317</td>\n",
       "    </tr>\n",
       "    <tr>\n",
       "      <th>199</th>\n",
       "      <td>13.0</td>\n",
       "      <td>21.686942</td>\n",
       "    </tr>\n",
       "    <tr>\n",
       "      <th>200</th>\n",
       "      <td>17.0</td>\n",
       "      <td>21.600356</td>\n",
       "    </tr>\n",
       "    <tr>\n",
       "      <th>201</th>\n",
       "      <td>9.0</td>\n",
       "      <td>20.647904</td>\n",
       "    </tr>\n",
       "  </tbody>\n",
       "</table>\n",
       "<p>202 rows × 2 columns</p>\n",
       "</div>"
      ],
      "text/plain": [
       "     Actual  Predicted\n",
       "0      20.0  21.513769\n",
       "1      21.0  21.557063\n",
       "2      21.0  20.518024\n",
       "3      15.0  20.431438\n",
       "4      17.0  22.596101\n",
       "..      ...        ...\n",
       "197    32.0  20.561317\n",
       "198    14.0  20.561317\n",
       "199    13.0  21.686942\n",
       "200    17.0  21.600356\n",
       "201     9.0  20.647904\n",
       "\n",
       "[202 rows x 2 columns]"
      ]
     },
     "execution_count": 194,
     "metadata": {
      "tags": []
     },
     "output_type": "execute_result"
    }
   ],
   "source": [
    "#Splitting the data into 80% train and 20% test \n",
    "train,test = np.split(lr_data, [int(.8*len(lr_data))])\n",
    "\n",
    "n = len(train)\n",
    "XY = []\n",
    "X_sq = []\n",
    "X = train.age.values.tolist()\n",
    "Y = train.recovery_days.values.tolist()\n",
    "\n",
    "#Below part calculates B0 and B1 values as per formula given above\n",
    "for i in range(n):\n",
    "    XY.append (X[i]*Y[i])\n",
    "    X_sq.append (X[i]**2)\n",
    "\n",
    "X_bar = np.sum(X)/n\n",
    "Y_bar = np.sum(Y)/n\n",
    "\n",
    "num = np.sum(XY) - (n*X_bar*Y_bar)\n",
    "den = np.sum(X_sq) - (n*(X_bar**2))\n",
    "B1 = num/den\n",
    "B0 = Y_bar - (B1*X_bar)\n",
    "\n",
    "Y_cap = []\n",
    "Y_act = []\n",
    "X_act =[]\n",
    "\n",
    "m=len(test)\n",
    "x = test.age.values.tolist()    #Test data for prediction\n",
    "y = test.recovery_days.values.tolist()  #Actual values for test data\n",
    "for j in range(m):\n",
    "    y_pred = B0+(B1*x[j])   #Predicted value is calculated usin B0 and B1\n",
    "    Y_cap.append(y_pred)\n",
    "    Y_act.append(y[j])\n",
    "    X_act.append(x[j])\n",
    "\n",
    "mse, mape = errors(Y_act, Y_cap)    #calculate errors like MAPE and MSE\n",
    "print('MAPE:', mape)  \n",
    "print('Mean Squared Error:', mse)  \n",
    "\n",
    "#Below part plots the actual points and the predicted LR fit\n",
    "plt.figure(figsize=(15, 8))\n",
    "plt.title(\"Simple Linear Regression\", size=18)\n",
    "plt.plot(X_act,Y_act,'*', label='Actual Data')\n",
    "plt.plot(X_act,Y_cap, color='red', linewidth=2, label=\"Regression Fit\")\n",
    "plt.xlabel(\"Age\", size=12)\n",
    "plt.ylabel(\"Recovery Days\", size=12)\n",
    "plt.legend(loc='best',prop={'size': 14})\n",
    "plt.show()\n",
    "\n",
    "result = pd.DataFrame({'Actual': Y_act, 'Predicted': Y_cap})\n",
    "result"
   ]
  },
  {
   "cell_type": "markdown",
   "metadata": {
    "colab_type": "text",
    "id": "-KqM5-QoIAsN"
   },
   "source": [
    "* ## **Multiple Linear Regression**\n",
    "\n",
    "**Formulas Used:**\n",
    "$$X = \\{Age, Sex\\}$$\n",
    "$$Y = \\{Recovery\\_Days\\}$$\n",
    "\\\n",
    "$$ \\hat{\\beta} = (X^T.X)^{-1}X^T Y$$\n",
    "$$[\\hat{Y}] = [X] .[\\hat{\\beta}] $$"
   ]
  },
  {
   "cell_type": "code",
   "execution_count": 195,
   "metadata": {
    "colab": {
     "base_uri": "https://localhost:8080/",
     "height": 145
    },
    "colab_type": "code",
    "id": "Lcsifse19vQq",
    "outputId": "4ce62dde-fab0-4008-8587-57beaf130090"
   },
   "outputs": [
    {
     "name": "stdout",
     "output_type": "stream",
     "text": [
      "MAPE: 43.466360116770176\n",
      "Mean Squared Error: 79.10708426976191\n"
     ]
    },
    {
     "data": {
      "text/html": [
       "<div>\n",
       "<style scoped>\n",
       "    .dataframe tbody tr th:only-of-type {\n",
       "        vertical-align: middle;\n",
       "    }\n",
       "\n",
       "    .dataframe tbody tr th {\n",
       "        vertical-align: top;\n",
       "    }\n",
       "\n",
       "    .dataframe thead th {\n",
       "        text-align: right;\n",
       "    }\n",
       "</style>\n",
       "<table border=\"1\" class=\"dataframe\">\n",
       "  <thead>\n",
       "    <tr style=\"text-align: right;\">\n",
       "      <th></th>\n",
       "      <th>Coefficient</th>\n",
       "    </tr>\n",
       "  </thead>\n",
       "  <tbody>\n",
       "    <tr>\n",
       "      <th>age</th>\n",
       "      <td>0.037869</td>\n",
       "    </tr>\n",
       "    <tr>\n",
       "      <th>sex</th>\n",
       "      <td>-1.255416</td>\n",
       "    </tr>\n",
       "  </tbody>\n",
       "</table>\n",
       "</div>"
      ],
      "text/plain": [
       "     Coefficient\n",
       "age     0.037869\n",
       "sex    -1.255416"
      ]
     },
     "execution_count": 195,
     "metadata": {
      "tags": []
     },
     "output_type": "execute_result"
    }
   ],
   "source": [
    "#Splitting the data into 80% train and 20% test\n",
    "train,test = np.split(lr_data, [int(.8*len(lr_data))])\n",
    "\n",
    "#Making 2d matrix for X_train and Y_train data\n",
    "x_data = train[['age','sex']].reset_index(drop=True).values\n",
    "temp = np.asarray([1]*len(train)).reshape(-1,1)\n",
    "X_train = np.concatenate((temp, x_data),axis=1)\n",
    "Y_train = np.asarray(train['recovery_days']).reshape(-1,1)\n",
    "\n",
    "#Making 2d matrix for X_test and Y_test data\n",
    "x_data = test[['age','sex']].reset_index(drop=True).values\n",
    "temp = np.asarray([1]*len(test)).reshape(-1,1)\n",
    "X_test = np.concatenate((temp, x_data),axis=1)\n",
    "Y_test = np.asarray(test['recovery_days']).reshape(-1,1)\n",
    "\n",
    "#Calculating the Beta matrix using formula given above\n",
    "Beta = beta_cal(X_train,Y_train)\n",
    "\n",
    "#Calculating Y predicted matrix using formula given\n",
    "Y_hat = np.dot(X_test,Beta)\n",
    "\n",
    "result = pd.DataFrame({'Actual': Y_test.flatten(), 'Predicted': Y_hat.flatten()})\n",
    "\n",
    "#Caclulating errors like MAPE and MSE\n",
    "mse, mape = errors(Y_test, Y_hat)\n",
    "print('MAPE:', mape[0])  \n",
    "print('Mean Squared Error:', mse[0]) \n",
    "\n",
    "coeff_df = pd.DataFrame(Beta[1:], ['age','sex'], columns=['Coefficient'])  \n",
    "coeff_df"
   ]
  },
  {
   "cell_type": "code",
   "execution_count": 196,
   "metadata": {
    "colab": {
     "base_uri": "https://localhost:8080/",
     "height": 407
    },
    "colab_type": "code",
    "id": "pouaV9a8-8ko",
    "outputId": "6c0b446e-11ca-4a3d-c25a-2090d6a61b56"
   },
   "outputs": [
    {
     "data": {
      "text/html": [
       "<div>\n",
       "<style scoped>\n",
       "    .dataframe tbody tr th:only-of-type {\n",
       "        vertical-align: middle;\n",
       "    }\n",
       "\n",
       "    .dataframe tbody tr th {\n",
       "        vertical-align: top;\n",
       "    }\n",
       "\n",
       "    .dataframe thead th {\n",
       "        text-align: right;\n",
       "    }\n",
       "</style>\n",
       "<table border=\"1\" class=\"dataframe\">\n",
       "  <thead>\n",
       "    <tr style=\"text-align: right;\">\n",
       "      <th></th>\n",
       "      <th>Actual</th>\n",
       "      <th>Predicted</th>\n",
       "    </tr>\n",
       "  </thead>\n",
       "  <tbody>\n",
       "    <tr>\n",
       "      <th>0</th>\n",
       "      <td>20.0</td>\n",
       "      <td>21.974378</td>\n",
       "    </tr>\n",
       "    <tr>\n",
       "      <th>1</th>\n",
       "      <td>21.0</td>\n",
       "      <td>22.012247</td>\n",
       "    </tr>\n",
       "    <tr>\n",
       "      <th>2</th>\n",
       "      <td>21.0</td>\n",
       "      <td>19.847981</td>\n",
       "    </tr>\n",
       "    <tr>\n",
       "      <th>3</th>\n",
       "      <td>15.0</td>\n",
       "      <td>21.027659</td>\n",
       "    </tr>\n",
       "    <tr>\n",
       "      <th>4</th>\n",
       "      <td>17.0</td>\n",
       "      <td>21.665682</td>\n",
       "    </tr>\n",
       "    <tr>\n",
       "      <th>...</th>\n",
       "      <td>...</td>\n",
       "      <td>...</td>\n",
       "    </tr>\n",
       "    <tr>\n",
       "      <th>197</th>\n",
       "      <td>32.0</td>\n",
       "      <td>19.885850</td>\n",
       "    </tr>\n",
       "    <tr>\n",
       "      <th>198</th>\n",
       "      <td>14.0</td>\n",
       "      <td>21.141265</td>\n",
       "    </tr>\n",
       "    <tr>\n",
       "      <th>199</th>\n",
       "      <td>13.0</td>\n",
       "      <td>22.125854</td>\n",
       "    </tr>\n",
       "    <tr>\n",
       "      <th>200</th>\n",
       "      <td>17.0</td>\n",
       "      <td>20.794700</td>\n",
       "    </tr>\n",
       "    <tr>\n",
       "      <th>201</th>\n",
       "      <td>9.0</td>\n",
       "      <td>21.217003</td>\n",
       "    </tr>\n",
       "  </tbody>\n",
       "</table>\n",
       "<p>202 rows × 2 columns</p>\n",
       "</div>"
      ],
      "text/plain": [
       "     Actual  Predicted\n",
       "0      20.0  21.974378\n",
       "1      21.0  22.012247\n",
       "2      21.0  19.847981\n",
       "3      15.0  21.027659\n",
       "4      17.0  21.665682\n",
       "..      ...        ...\n",
       "197    32.0  19.885850\n",
       "198    14.0  21.141265\n",
       "199    13.0  22.125854\n",
       "200    17.0  20.794700\n",
       "201     9.0  21.217003\n",
       "\n",
       "[202 rows x 2 columns]"
      ]
     },
     "execution_count": 196,
     "metadata": {
      "tags": []
     },
     "output_type": "execute_result"
    }
   ],
   "source": [
    "result"
   ]
  },
  {
   "cell_type": "markdown",
   "metadata": {
    "colab_type": "text",
    "id": "uYIDEynYBLnI"
   },
   "source": [
    "### **Analysis**\n",
    "\n",
    "\n",
    "*   In Simple Linear Regression, we can observe that there is little relation between age and the no. of days taken to recover.\n",
    "*   In multiple Linear Regression adding new feature of 'sex', did not provide a better fit with recovery days. \n",
    "\n"
   ]
  }
 ],
 "metadata": {
  "colab": {
   "collapsed_sections": [
    "LZfAc9GCHcIN",
    "VBa7HXOyIO4a",
    "R3G1WBk1I8xP",
    "6BIbzqBoJeho",
    "LWRVhoyUJ99q",
    "V6idQvOAKsk9",
    "nQI8e67IMX5F",
    "HaMByPeJzQj8",
    "XjQPYLmrpUjJ",
    "cOI0T1beqTtu",
    "QxXkKc81r9fs",
    "DsvRl3sosedw",
    "gPoa82phda_V",
    "jJFjM3cUtaY3",
    "_-PIDl0VtOw2",
    "dpzx4YMIuQOd",
    "hUQmPUq6vIf1"
   ],
   "name": "112609023.ipynb",
   "provenance": []
  },
  "kernelspec": {
   "display_name": "Python 3",
   "language": "python",
   "name": "python3"
  },
  "language_info": {
   "codemirror_mode": {
    "name": "ipython",
    "version": 3
   },
   "file_extension": ".py",
   "mimetype": "text/x-python",
   "name": "python",
   "nbconvert_exporter": "python",
   "pygments_lexer": "ipython3",
   "version": "3.7.6"
  },
  "toc": {
   "base_numbering": 1,
   "nav_menu": {},
   "number_sections": false,
   "sideBar": true,
   "skip_h1_title": true,
   "title_cell": "Table of Contents",
   "title_sidebar": "Contents",
   "toc_cell": false,
   "toc_position": {},
   "toc_section_display": true,
   "toc_window_display": true
  }
 },
 "nbformat": 4,
 "nbformat_minor": 1
}
